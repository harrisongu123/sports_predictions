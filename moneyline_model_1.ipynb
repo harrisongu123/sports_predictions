{
 "cells": [
  {
   "cell_type": "code",
   "execution_count": 14,
   "id": "d9ccd92b",
   "metadata": {},
   "outputs": [],
   "source": [
    "import pandas as pd\n",
    "import numpy as np\n",
    "from sklearn.linear_model import LogisticRegression\n",
    "import pickle"
   ]
  },
  {
   "cell_type": "code",
   "execution_count": 2,
   "id": "6426fcae",
   "metadata": {},
   "outputs": [],
   "source": [
    "x_test = pd.read_excel('C:\\\\Users\\\\Daniel\\\\Documents\\\\Flatiron\\\\Capstone\\\\sports_predictions\\\\stats.xlsx')"
   ]
  },
  {
   "cell_type": "code",
   "execution_count": 5,
   "id": "751049b8",
   "metadata": {},
   "outputs": [],
   "source": [
    "df = pd.read_csv('avg_by_game')\n",
    "\n",
    "data = df.set_index(df['GameID'], drop=True)\n",
    "data.drop(columns='GameID', inplace=True)"
   ]
  },
  {
   "cell_type": "code",
   "execution_count": 8,
   "id": "a1aa2485",
   "metadata": {},
   "outputs": [
    {
     "name": "stderr",
     "output_type": "stream",
     "text": [
      "<ipython-input-8-cff0062ab066>:3: SettingWithCopyWarning: \n",
      "A value is trying to be set on a copy of a slice from a DataFrame\n",
      "\n",
      "See the caveats in the documentation: https://pandas.pydata.org/pandas-docs/stable/user_guide/indexing.html#returning-a-view-versus-a-copy\n",
      "  data['Home Win By'][x] = 0\n",
      "<ipython-input-8-cff0062ab066>:5: SettingWithCopyWarning: \n",
      "A value is trying to be set on a copy of a slice from a DataFrame\n",
      "\n",
      "See the caveats in the documentation: https://pandas.pydata.org/pandas-docs/stable/user_guide/indexing.html#returning-a-view-versus-a-copy\n",
      "  data['Home Win By'][x] = 1\n"
     ]
    }
   ],
   "source": [
    "for x in range(len(data)):\n",
    "    if data['Home Win By'][x] > 0:\n",
    "        data['Home Win By'][x] = 0\n",
    "    else:\n",
    "        data['Home Win By'][x] = 1"
   ]
  },
  {
   "cell_type": "code",
   "execution_count": 9,
   "id": "8ab9c45c",
   "metadata": {},
   "outputs": [],
   "source": [
    "x = data.drop(columns='Home Win By')\n",
    "y = data['Home Win By']"
   ]
  },
  {
   "cell_type": "code",
   "execution_count": 10,
   "id": "ad1cff37",
   "metadata": {},
   "outputs": [
    {
     "name": "stdout",
     "output_type": "stream",
     "text": [
      "[[0.21671656 0.78328344]\n",
      " [0.55702528 0.44297472]\n",
      " [0.63458556 0.36541444]]\n"
     ]
    },
    {
     "name": "stderr",
     "output_type": "stream",
     "text": [
      "C:\\Users\\Daniel\\anaconda3\\lib\\site-packages\\sklearn\\linear_model\\_logistic.py:763: ConvergenceWarning: lbfgs failed to converge (status=1):\n",
      "STOP: TOTAL NO. of ITERATIONS REACHED LIMIT.\n",
      "\n",
      "Increase the number of iterations (max_iter) or scale the data as shown in:\n",
      "    https://scikit-learn.org/stable/modules/preprocessing.html\n",
      "Please also refer to the documentation for alternative solver options:\n",
      "    https://scikit-learn.org/stable/modules/linear_model.html#logistic-regression\n",
      "  n_iter_i = _check_optimize_result(\n"
     ]
    }
   ],
   "source": [
    "logreg = LogisticRegression()\n",
    "\n",
    "logreg.fit(x, y)\n",
    "\n",
    "y_test_prob = logreg.predict_proba(x_test)\n",
    "\n",
    "print(y_test_prob)"
   ]
  },
  {
   "cell_type": "code",
   "execution_count": 11,
   "id": "e3a44f39",
   "metadata": {},
   "outputs": [],
   "source": [
    "results = pd.DataFrame(columns=['Home Prob', 'Away Prob'],\n",
    "                      index = range(len(x_test)))"
   ]
  },
  {
   "cell_type": "code",
   "execution_count": 12,
   "id": "840fc8ca",
   "metadata": {},
   "outputs": [],
   "source": [
    "for x in range(len(y_test_prob)):\n",
    "    results['Home Prob'][x] = y_test_prob[x][0]\n",
    "    results['Away Prob'][x] = y_test_prob[x][1]"
   ]
  },
  {
   "cell_type": "code",
   "execution_count": 13,
   "id": "c0dc43ab",
   "metadata": {},
   "outputs": [
    {
     "data": {
      "text/html": [
       "<div>\n",
       "<style scoped>\n",
       "    .dataframe tbody tr th:only-of-type {\n",
       "        vertical-align: middle;\n",
       "    }\n",
       "\n",
       "    .dataframe tbody tr th {\n",
       "        vertical-align: top;\n",
       "    }\n",
       "\n",
       "    .dataframe thead th {\n",
       "        text-align: right;\n",
       "    }\n",
       "</style>\n",
       "<table border=\"1\" class=\"dataframe\">\n",
       "  <thead>\n",
       "    <tr style=\"text-align: right;\">\n",
       "      <th></th>\n",
       "      <th>Home Prob</th>\n",
       "      <th>Away Prob</th>\n",
       "    </tr>\n",
       "  </thead>\n",
       "  <tbody>\n",
       "    <tr>\n",
       "      <th>0</th>\n",
       "      <td>0.216717</td>\n",
       "      <td>0.783283</td>\n",
       "    </tr>\n",
       "    <tr>\n",
       "      <th>1</th>\n",
       "      <td>0.557025</td>\n",
       "      <td>0.442975</td>\n",
       "    </tr>\n",
       "    <tr>\n",
       "      <th>2</th>\n",
       "      <td>0.634586</td>\n",
       "      <td>0.365414</td>\n",
       "    </tr>\n",
       "  </tbody>\n",
       "</table>\n",
       "</div>"
      ],
      "text/plain": [
       "  Home Prob Away Prob\n",
       "0  0.216717  0.783283\n",
       "1  0.557025  0.442975\n",
       "2  0.634586  0.365414"
      ]
     },
     "execution_count": 13,
     "metadata": {},
     "output_type": "execute_result"
    }
   ],
   "source": [
    "results"
   ]
  },
  {
   "cell_type": "code",
   "execution_count": 15,
   "id": "fa41714f",
   "metadata": {},
   "outputs": [],
   "source": [
    "#pickle model for later use\n",
    "logreg_file = 'logreg_model.sav'\n",
    "pickle.dump(logreg, open(logreg_file, 'wb'))"
   ]
  }
 ],
 "metadata": {
  "kernelspec": {
   "display_name": "Python (learn-env)",
   "language": "python",
   "name": "learn-env"
  },
  "language_info": {
   "codemirror_mode": {
    "name": "ipython",
    "version": 3
   },
   "file_extension": ".py",
   "mimetype": "text/x-python",
   "name": "python",
   "nbconvert_exporter": "python",
   "pygments_lexer": "ipython3",
   "version": "3.8.8"
  }
 },
 "nbformat": 4,
 "nbformat_minor": 5
}
