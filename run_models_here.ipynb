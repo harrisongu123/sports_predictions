{
 "cells": [
  {
   "cell_type": "code",
   "execution_count": 1,
   "id": "47d9de8c",
   "metadata": {},
   "outputs": [],
   "source": [
    "import pandas as pd\n",
    "import numpy as np\n",
    "from sklearn.linear_model import LinearRegression\n",
    "from sklearn.ensemble import RandomForestRegressor\n",
    "from sklearn.ensemble import GradientBoostingRegressor\n",
    "from keras import models\n",
    "from keras.models import Sequential\n",
    "from keras import layers\n",
    "from keras.layers import Dense, Dropout, Activation\n",
    "from keras import optimizers\n",
    "from keras import regularizers\n",
    "import pickle"
   ]
  },
  {
   "cell_type": "code",
   "execution_count": 2,
   "id": "9830115a",
   "metadata": {},
   "outputs": [],
   "source": [
    "x_test = pd.read_excel('C:\\\\Users\\\\Daniel\\\\Documents\\\\Flatiron\\\\Capstone\\\\sports_predictions\\\\stats.xlsx')"
   ]
  },
  {
   "cell_type": "code",
   "execution_count": 3,
   "id": "966cfad2",
   "metadata": {},
   "outputs": [
    {
     "data": {
      "text/html": [
       "<div>\n",
       "<style scoped>\n",
       "    .dataframe tbody tr th:only-of-type {\n",
       "        vertical-align: middle;\n",
       "    }\n",
       "\n",
       "    .dataframe tbody tr th {\n",
       "        vertical-align: top;\n",
       "    }\n",
       "\n",
       "    .dataframe thead th {\n",
       "        text-align: right;\n",
       "    }\n",
       "</style>\n",
       "<table border=\"1\" class=\"dataframe\">\n",
       "  <thead>\n",
       "    <tr style=\"text-align: right;\">\n",
       "      <th></th>\n",
       "      <th>Home Points For</th>\n",
       "      <th>Home Points Against</th>\n",
       "      <th>Home eFG%</th>\n",
       "      <th>Home FTr</th>\n",
       "      <th>Home ORB%</th>\n",
       "      <th>Home DRB%</th>\n",
       "      <th>Home AST%</th>\n",
       "      <th>Home STL%</th>\n",
       "      <th>Home BLK%</th>\n",
       "      <th>Home TOV%</th>\n",
       "      <th>...</th>\n",
       "      <th>Away AST%</th>\n",
       "      <th>Away STL%</th>\n",
       "      <th>Away BLK%</th>\n",
       "      <th>Away TOV%</th>\n",
       "      <th>Away ORTG</th>\n",
       "      <th>Away DRtg</th>\n",
       "      <th>Away GP</th>\n",
       "      <th>Away Win Rate</th>\n",
       "      <th>Vegas Prediction</th>\n",
       "      <th>Season</th>\n",
       "    </tr>\n",
       "  </thead>\n",
       "  <tbody>\n",
       "    <tr>\n",
       "      <th>0</th>\n",
       "      <td>108.5</td>\n",
       "      <td>103.5</td>\n",
       "      <td>0.553</td>\n",
       "      <td>0.236</td>\n",
       "      <td>16.5</td>\n",
       "      <td>78.0</td>\n",
       "      <td>63.6</td>\n",
       "      <td>6.6</td>\n",
       "      <td>5.2</td>\n",
       "      <td>14.1</td>\n",
       "      <td>...</td>\n",
       "      <td>70.6</td>\n",
       "      <td>10.6</td>\n",
       "      <td>4.8</td>\n",
       "      <td>13.8</td>\n",
       "      <td>112.6</td>\n",
       "      <td>99.6</td>\n",
       "      <td>4</td>\n",
       "      <td>0.750000</td>\n",
       "      <td>3.0</td>\n",
       "      <td>2021</td>\n",
       "    </tr>\n",
       "    <tr>\n",
       "      <th>1</th>\n",
       "      <td>110.2</td>\n",
       "      <td>103.5</td>\n",
       "      <td>0.533</td>\n",
       "      <td>0.273</td>\n",
       "      <td>24.8</td>\n",
       "      <td>78.3</td>\n",
       "      <td>52.2</td>\n",
       "      <td>8.0</td>\n",
       "      <td>5.0</td>\n",
       "      <td>13.7</td>\n",
       "      <td>...</td>\n",
       "      <td>57.0</td>\n",
       "      <td>8.2</td>\n",
       "      <td>5.9</td>\n",
       "      <td>11.9</td>\n",
       "      <td>115.1</td>\n",
       "      <td>110.8</td>\n",
       "      <td>6</td>\n",
       "      <td>0.670000</td>\n",
       "      <td>10.0</td>\n",
       "      <td>2021</td>\n",
       "    </tr>\n",
       "    <tr>\n",
       "      <th>2</th>\n",
       "      <td>108.5</td>\n",
       "      <td>103.3</td>\n",
       "      <td>0.430</td>\n",
       "      <td>0.203</td>\n",
       "      <td>19.6</td>\n",
       "      <td>76.0</td>\n",
       "      <td>59.2</td>\n",
       "      <td>9.1</td>\n",
       "      <td>5.0</td>\n",
       "      <td>12.7</td>\n",
       "      <td>...</td>\n",
       "      <td>65.6</td>\n",
       "      <td>8.9</td>\n",
       "      <td>5.2</td>\n",
       "      <td>11.6</td>\n",
       "      <td>107.2</td>\n",
       "      <td>107.1</td>\n",
       "      <td>7</td>\n",
       "      <td>0.285714</td>\n",
       "      <td>7.5</td>\n",
       "      <td>2021</td>\n",
       "    </tr>\n",
       "  </tbody>\n",
       "</table>\n",
       "<p>3 rows × 30 columns</p>\n",
       "</div>"
      ],
      "text/plain": [
       "   Home Points For  Home Points Against  Home eFG%  Home FTr  Home ORB%  \\\n",
       "0            108.5                103.5      0.553     0.236       16.5   \n",
       "1            110.2                103.5      0.533     0.273       24.8   \n",
       "2            108.5                103.3      0.430     0.203       19.6   \n",
       "\n",
       "   Home DRB%  Home AST%  Home STL%  Home BLK%  Home TOV%  ...  Away AST%  \\\n",
       "0       78.0       63.6        6.6        5.2       14.1  ...       70.6   \n",
       "1       78.3       52.2        8.0        5.0       13.7  ...       57.0   \n",
       "2       76.0       59.2        9.1        5.0       12.7  ...       65.6   \n",
       "\n",
       "   Away STL%  Away BLK%  Away TOV%  Away ORTG  Away DRtg  Away GP  \\\n",
       "0       10.6        4.8       13.8      112.6       99.6        4   \n",
       "1        8.2        5.9       11.9      115.1      110.8        6   \n",
       "2        8.9        5.2       11.6      107.2      107.1        7   \n",
       "\n",
       "   Away Win Rate  Vegas Prediction  Season  \n",
       "0       0.750000               3.0    2021  \n",
       "1       0.670000              10.0    2021  \n",
       "2       0.285714               7.5    2021  \n",
       "\n",
       "[3 rows x 30 columns]"
      ]
     },
     "execution_count": 3,
     "metadata": {},
     "output_type": "execute_result"
    }
   ],
   "source": [
    "x_test"
   ]
  },
  {
   "cell_type": "code",
   "execution_count": 12,
   "id": "68503fec",
   "metadata": {},
   "outputs": [],
   "source": [
    "linreg = pickle.load(open('linreg_model.sav', 'rb'))\n",
    "rf = pickle.load(open('rf_model.sav', 'rb'))\n",
    "gb = pickle.load(open('gb_model.sav', 'rb'))\n",
    "logreg = pickle.load(open('logreg_model.sav', 'rb'))"
   ]
  },
  {
   "cell_type": "code",
   "execution_count": 5,
   "id": "082689b5",
   "metadata": {},
   "outputs": [],
   "source": [
    "results = pd.DataFrame(columns=['linreg', 'forest', 'gb', 'NN', 'Vegas Prediction'],\n",
    "                      index = range(len(x_test)))"
   ]
  },
  {
   "cell_type": "code",
   "execution_count": 6,
   "id": "9cb4ba2a",
   "metadata": {},
   "outputs": [],
   "source": [
    "ml_models = [linreg, rf, gb]"
   ]
  },
  {
   "cell_type": "code",
   "execution_count": 7,
   "id": "ed7e68a7",
   "metadata": {},
   "outputs": [],
   "source": [
    "column_names = ['linreg', 'forest', 'gb', 'NN']"
   ]
  },
  {
   "cell_type": "code",
   "execution_count": 8,
   "id": "85c46a13",
   "metadata": {},
   "outputs": [],
   "source": [
    "for i, model in enumerate(ml_models):\n",
    "    preds = model.predict(x_test)\n",
    "    results[column_names[i]] = preds"
   ]
  },
  {
   "cell_type": "code",
   "execution_count": 9,
   "id": "2b8ac2a0",
   "metadata": {},
   "outputs": [],
   "source": [
    "results['Vegas Prediction'] = x_test['Vegas Prediction']"
   ]
  },
  {
   "cell_type": "code",
   "execution_count": 10,
   "id": "e3b7f089",
   "metadata": {},
   "outputs": [
    {
     "data": {
      "text/html": [
       "<div>\n",
       "<style scoped>\n",
       "    .dataframe tbody tr th:only-of-type {\n",
       "        vertical-align: middle;\n",
       "    }\n",
       "\n",
       "    .dataframe tbody tr th {\n",
       "        vertical-align: top;\n",
       "    }\n",
       "\n",
       "    .dataframe thead th {\n",
       "        text-align: right;\n",
       "    }\n",
       "</style>\n",
       "<table border=\"1\" class=\"dataframe\">\n",
       "  <thead>\n",
       "    <tr style=\"text-align: right;\">\n",
       "      <th></th>\n",
       "      <th>linreg</th>\n",
       "      <th>forest</th>\n",
       "      <th>gb</th>\n",
       "      <th>NN</th>\n",
       "      <th>Vegas Prediction</th>\n",
       "    </tr>\n",
       "  </thead>\n",
       "  <tbody>\n",
       "    <tr>\n",
       "      <th>0</th>\n",
       "      <td>-4.383754</td>\n",
       "      <td>-5.121025</td>\n",
       "      <td>-4.757548</td>\n",
       "      <td>NaN</td>\n",
       "      <td>3.0</td>\n",
       "    </tr>\n",
       "    <tr>\n",
       "      <th>1</th>\n",
       "      <td>5.336885</td>\n",
       "      <td>3.676007</td>\n",
       "      <td>4.157351</td>\n",
       "      <td>NaN</td>\n",
       "      <td>10.0</td>\n",
       "    </tr>\n",
       "    <tr>\n",
       "      <th>2</th>\n",
       "      <td>5.695100</td>\n",
       "      <td>5.260820</td>\n",
       "      <td>4.214978</td>\n",
       "      <td>NaN</td>\n",
       "      <td>7.5</td>\n",
       "    </tr>\n",
       "  </tbody>\n",
       "</table>\n",
       "</div>"
      ],
      "text/plain": [
       "     linreg    forest        gb   NN  Vegas Prediction\n",
       "0 -4.383754 -5.121025 -4.757548  NaN               3.0\n",
       "1  5.336885  3.676007  4.157351  NaN              10.0\n",
       "2  5.695100  5.260820  4.214978  NaN               7.5"
      ]
     },
     "execution_count": 10,
     "metadata": {},
     "output_type": "execute_result"
    }
   ],
   "source": [
    "results"
   ]
  },
  {
   "cell_type": "code",
   "execution_count": 13,
   "id": "b3c0caa4",
   "metadata": {},
   "outputs": [],
   "source": [
    "ml_prob = logreg.predict_proba(x_test)"
   ]
  },
  {
   "cell_type": "code",
   "execution_count": 14,
   "id": "a7469a56",
   "metadata": {},
   "outputs": [],
   "source": [
    "ml_results = pd.DataFrame(columns=['Home Prob', 'Away Prob'],\n",
    "                      index = range(len(x_test)))"
   ]
  },
  {
   "cell_type": "code",
   "execution_count": 15,
   "id": "d803e3e1",
   "metadata": {},
   "outputs": [],
   "source": [
    "for x in range(len(ml_prob)):\n",
    "    ml_results['Home Prob'][x] = ml_prob[x][0]\n",
    "    ml_results['Away Prob'][x] = ml_prob[x][1]"
   ]
  },
  {
   "cell_type": "code",
   "execution_count": 16,
   "id": "b6b39397",
   "metadata": {},
   "outputs": [
    {
     "data": {
      "text/html": [
       "<div>\n",
       "<style scoped>\n",
       "    .dataframe tbody tr th:only-of-type {\n",
       "        vertical-align: middle;\n",
       "    }\n",
       "\n",
       "    .dataframe tbody tr th {\n",
       "        vertical-align: top;\n",
       "    }\n",
       "\n",
       "    .dataframe thead th {\n",
       "        text-align: right;\n",
       "    }\n",
       "</style>\n",
       "<table border=\"1\" class=\"dataframe\">\n",
       "  <thead>\n",
       "    <tr style=\"text-align: right;\">\n",
       "      <th></th>\n",
       "      <th>Home Prob</th>\n",
       "      <th>Away Prob</th>\n",
       "    </tr>\n",
       "  </thead>\n",
       "  <tbody>\n",
       "    <tr>\n",
       "      <th>0</th>\n",
       "      <td>0.216717</td>\n",
       "      <td>0.783283</td>\n",
       "    </tr>\n",
       "    <tr>\n",
       "      <th>1</th>\n",
       "      <td>0.557025</td>\n",
       "      <td>0.442975</td>\n",
       "    </tr>\n",
       "    <tr>\n",
       "      <th>2</th>\n",
       "      <td>0.634586</td>\n",
       "      <td>0.365414</td>\n",
       "    </tr>\n",
       "  </tbody>\n",
       "</table>\n",
       "</div>"
      ],
      "text/plain": [
       "  Home Prob Away Prob\n",
       "0  0.216717  0.783283\n",
       "1  0.557025  0.442975\n",
       "2  0.634586  0.365414"
      ]
     },
     "execution_count": 16,
     "metadata": {},
     "output_type": "execute_result"
    }
   ],
   "source": [
    "ml_results"
   ]
  },
  {
   "cell_type": "code",
   "execution_count": null,
   "id": "a4be28aa",
   "metadata": {},
   "outputs": [],
   "source": []
  }
 ],
 "metadata": {
  "kernelspec": {
   "display_name": "Python (learn-env)",
   "language": "python",
   "name": "learn-env"
  },
  "language_info": {
   "codemirror_mode": {
    "name": "ipython",
    "version": 3
   },
   "file_extension": ".py",
   "mimetype": "text/x-python",
   "name": "python",
   "nbconvert_exporter": "python",
   "pygments_lexer": "ipython3",
   "version": "3.8.8"
  }
 },
 "nbformat": 4,
 "nbformat_minor": 5
}
