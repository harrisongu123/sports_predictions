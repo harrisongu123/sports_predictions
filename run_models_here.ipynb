{
 "cells": [
  {
   "cell_type": "code",
   "execution_count": 1,
   "id": "47d9de8c",
   "metadata": {},
   "outputs": [],
   "source": [
    "import pandas as pd\n",
    "import numpy as np\n",
    "from sklearn.linear_model import LinearRegression\n",
    "from sklearn.ensemble import RandomForestRegressor\n",
    "from sklearn.ensemble import GradientBoostingRegressor\n",
    "from keras import models\n",
    "from keras.models import Sequential\n",
    "from keras import layers\n",
    "from keras.layers import Dense, Dropout, Activation\n",
    "from keras import optimizers\n",
    "from keras import regularizers\n",
    "import pickle"
   ]
  },
  {
   "cell_type": "code",
   "execution_count": 2,
   "id": "9830115a",
   "metadata": {},
   "outputs": [],
   "source": [
    "x_test = pd.read_excel('C:\\\\Users\\\\Daniel\\\\Documents\\\\Flatiron\\\\Capstone\\\\sports_predictions\\\\stats.xlsx')"
   ]
  },
  {
   "cell_type": "code",
   "execution_count": 3,
   "id": "966cfad2",
   "metadata": {},
   "outputs": [
    {
     "data": {
      "text/html": [
       "<div>\n",
       "<style scoped>\n",
       "    .dataframe tbody tr th:only-of-type {\n",
       "        vertical-align: middle;\n",
       "    }\n",
       "\n",
       "    .dataframe tbody tr th {\n",
       "        vertical-align: top;\n",
       "    }\n",
       "\n",
       "    .dataframe thead th {\n",
       "        text-align: right;\n",
       "    }\n",
       "</style>\n",
       "<table border=\"1\" class=\"dataframe\">\n",
       "  <thead>\n",
       "    <tr style=\"text-align: right;\">\n",
       "      <th></th>\n",
       "      <th>Home Points For</th>\n",
       "      <th>Home Points Against</th>\n",
       "      <th>Home eFG%</th>\n",
       "      <th>Home FTr</th>\n",
       "      <th>Home ORB%</th>\n",
       "      <th>Home DRB%</th>\n",
       "      <th>Home AST%</th>\n",
       "      <th>Home STL%</th>\n",
       "      <th>Home BLK%</th>\n",
       "      <th>Home TOV%</th>\n",
       "      <th>...</th>\n",
       "      <th>Away AST%</th>\n",
       "      <th>Away STL%</th>\n",
       "      <th>Away BLK%</th>\n",
       "      <th>Away TOV%</th>\n",
       "      <th>Away ORTG</th>\n",
       "      <th>Away DRtg</th>\n",
       "      <th>Away GP</th>\n",
       "      <th>Away Win Rate</th>\n",
       "      <th>Vegas Prediction</th>\n",
       "      <th>Season</th>\n",
       "    </tr>\n",
       "  </thead>\n",
       "  <tbody>\n",
       "    <tr>\n",
       "      <th>0</th>\n",
       "      <td>110.1</td>\n",
       "      <td>103</td>\n",
       "      <td>0.526</td>\n",
       "      <td>0.244</td>\n",
       "      <td>25.9</td>\n",
       "      <td>80.3</td>\n",
       "      <td>58.9</td>\n",
       "      <td>7.6</td>\n",
       "      <td>2.6</td>\n",
       "      <td>13.7</td>\n",
       "      <td>...</td>\n",
       "      <td>63.1</td>\n",
       "      <td>7</td>\n",
       "      <td>4.5</td>\n",
       "      <td>13.8</td>\n",
       "      <td>104.4</td>\n",
       "      <td>113.9</td>\n",
       "      <td>8</td>\n",
       "      <td>0.142857</td>\n",
       "      <td>6.5</td>\n",
       "      <td>2021</td>\n",
       "    </tr>\n",
       "  </tbody>\n",
       "</table>\n",
       "<p>1 rows × 30 columns</p>\n",
       "</div>"
      ],
      "text/plain": [
       "   Home Points For  Home Points Against  Home eFG%  Home FTr  Home ORB%  \\\n",
       "0            110.1                  103      0.526     0.244       25.9   \n",
       "\n",
       "   Home DRB%  Home AST%  Home STL%  Home BLK%  Home TOV%  ...  Away AST%  \\\n",
       "0       80.3       58.9        7.6        2.6       13.7  ...       63.1   \n",
       "\n",
       "   Away STL%  Away BLK%  Away TOV%  Away ORTG  Away DRtg  Away GP  \\\n",
       "0          7        4.5       13.8      104.4      113.9        8   \n",
       "\n",
       "   Away Win Rate  Vegas Prediction  Season  \n",
       "0       0.142857               6.5    2021  \n",
       "\n",
       "[1 rows x 30 columns]"
      ]
     },
     "execution_count": 3,
     "metadata": {},
     "output_type": "execute_result"
    }
   ],
   "source": [
    "x_test"
   ]
  },
  {
   "cell_type": "code",
   "execution_count": 4,
   "id": "68503fec",
   "metadata": {},
   "outputs": [],
   "source": [
    "linreg = pickle.load(open('linreg_model.sav', 'rb'))\n",
    "rf = pickle.load(open('rf_model.sav', 'rb'))\n",
    "gb = pickle.load(open('gb_model.sav', 'rb'))\n",
    "logreg = pickle.load(open('logreg_model.sav', 'rb'))"
   ]
  },
  {
   "cell_type": "code",
   "execution_count": 5,
   "id": "082689b5",
   "metadata": {},
   "outputs": [],
   "source": [
    "results = pd.DataFrame(columns=['linreg', 'forest', 'gb', 'NN', 'Vegas Prediction'],\n",
    "                      index = range(len(x_test)))"
   ]
  },
  {
   "cell_type": "code",
   "execution_count": 6,
   "id": "9cb4ba2a",
   "metadata": {},
   "outputs": [],
   "source": [
    "ml_models = [linreg, rf, gb]"
   ]
  },
  {
   "cell_type": "code",
   "execution_count": 7,
   "id": "ed7e68a7",
   "metadata": {},
   "outputs": [],
   "source": [
    "column_names = ['linreg', 'forest', 'gb', 'NN']"
   ]
  },
  {
   "cell_type": "code",
   "execution_count": 8,
   "id": "85c46a13",
   "metadata": {},
   "outputs": [],
   "source": [
    "for i, model in enumerate(ml_models):\n",
    "    preds = model.predict(x_test)\n",
    "    results[column_names[i]] = preds"
   ]
  },
  {
   "cell_type": "code",
   "execution_count": 9,
   "id": "2b8ac2a0",
   "metadata": {},
   "outputs": [],
   "source": [
    "results['Vegas Prediction'] = x_test['Vegas Prediction']"
   ]
  },
  {
   "cell_type": "code",
   "execution_count": 10,
   "id": "e3b7f089",
   "metadata": {},
   "outputs": [
    {
     "data": {
      "text/html": [
       "<div>\n",
       "<style scoped>\n",
       "    .dataframe tbody tr th:only-of-type {\n",
       "        vertical-align: middle;\n",
       "    }\n",
       "\n",
       "    .dataframe tbody tr th {\n",
       "        vertical-align: top;\n",
       "    }\n",
       "\n",
       "    .dataframe thead th {\n",
       "        text-align: right;\n",
       "    }\n",
       "</style>\n",
       "<table border=\"1\" class=\"dataframe\">\n",
       "  <thead>\n",
       "    <tr style=\"text-align: right;\">\n",
       "      <th></th>\n",
       "      <th>linreg</th>\n",
       "      <th>forest</th>\n",
       "      <th>gb</th>\n",
       "      <th>NN</th>\n",
       "      <th>Vegas Prediction</th>\n",
       "    </tr>\n",
       "  </thead>\n",
       "  <tbody>\n",
       "    <tr>\n",
       "      <th>0</th>\n",
       "      <td>12.755342</td>\n",
       "      <td>10.169354</td>\n",
       "      <td>13.553754</td>\n",
       "      <td>NaN</td>\n",
       "      <td>6.5</td>\n",
       "    </tr>\n",
       "  </tbody>\n",
       "</table>\n",
       "</div>"
      ],
      "text/plain": [
       "      linreg     forest         gb   NN  Vegas Prediction\n",
       "0  12.755342  10.169354  13.553754  NaN               6.5"
      ]
     },
     "execution_count": 10,
     "metadata": {},
     "output_type": "execute_result"
    }
   ],
   "source": [
    "results"
   ]
  },
  {
   "cell_type": "code",
   "execution_count": 11,
   "id": "b3c0caa4",
   "metadata": {},
   "outputs": [],
   "source": [
    "ml_prob = logreg.predict_proba(x_test)"
   ]
  },
  {
   "cell_type": "code",
   "execution_count": 12,
   "id": "a7469a56",
   "metadata": {},
   "outputs": [],
   "source": [
    "ml_results = pd.DataFrame(columns=['Home Prob', 'Away Prob'],\n",
    "                      index = range(len(x_test)))"
   ]
  },
  {
   "cell_type": "code",
   "execution_count": 13,
   "id": "d803e3e1",
   "metadata": {},
   "outputs": [],
   "source": [
    "for x in range(len(ml_prob)):\n",
    "    ml_results['Home Prob'][x] = ml_prob[x][0]\n",
    "    ml_results['Away Prob'][x] = ml_prob[x][1]"
   ]
  },
  {
   "cell_type": "code",
   "execution_count": 14,
   "id": "b6b39397",
   "metadata": {},
   "outputs": [
    {
     "data": {
      "text/html": [
       "<div>\n",
       "<style scoped>\n",
       "    .dataframe tbody tr th:only-of-type {\n",
       "        vertical-align: middle;\n",
       "    }\n",
       "\n",
       "    .dataframe tbody tr th {\n",
       "        vertical-align: top;\n",
       "    }\n",
       "\n",
       "    .dataframe thead th {\n",
       "        text-align: right;\n",
       "    }\n",
       "</style>\n",
       "<table border=\"1\" class=\"dataframe\">\n",
       "  <thead>\n",
       "    <tr style=\"text-align: right;\">\n",
       "      <th></th>\n",
       "      <th>Home Prob</th>\n",
       "      <th>Away Prob</th>\n",
       "    </tr>\n",
       "  </thead>\n",
       "  <tbody>\n",
       "    <tr>\n",
       "      <th>0</th>\n",
       "      <td>0.88552</td>\n",
       "      <td>0.11448</td>\n",
       "    </tr>\n",
       "  </tbody>\n",
       "</table>\n",
       "</div>"
      ],
      "text/plain": [
       "  Home Prob Away Prob\n",
       "0   0.88552   0.11448"
      ]
     },
     "execution_count": 14,
     "metadata": {},
     "output_type": "execute_result"
    }
   ],
   "source": [
    "ml_results"
   ]
  },
  {
   "cell_type": "code",
   "execution_count": null,
   "id": "a4be28aa",
   "metadata": {},
   "outputs": [],
   "source": []
  }
 ],
 "metadata": {
  "kernelspec": {
   "display_name": "Python (learn-env)",
   "language": "python",
   "name": "learn-env"
  },
  "language_info": {
   "codemirror_mode": {
    "name": "ipython",
    "version": 3
   },
   "file_extension": ".py",
   "mimetype": "text/x-python",
   "name": "python",
   "nbconvert_exporter": "python",
   "pygments_lexer": "ipython3",
   "version": "3.8.8"
  }
 },
 "nbformat": 4,
 "nbformat_minor": 5
}
