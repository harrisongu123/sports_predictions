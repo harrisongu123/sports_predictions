{
 "cells": [
  {
   "cell_type": "code",
   "execution_count": 1,
   "id": "22dabb7e",
   "metadata": {},
   "outputs": [],
   "source": [
    "import pandas as pd\n",
    "from bs4 import BeautifulSoup\n",
    "import requests"
   ]
  },
  {
   "cell_type": "code",
   "execution_count": 2,
   "id": "66198766",
   "metadata": {},
   "outputs": [],
   "source": [
    "# html_page = requests.get('https://www.pro-football-reference.com/years/2019/week_1.htm')\n",
    "# soup = BeautifulSoup(html_page.content, 'html.parser')"
   ]
  },
  {
   "cell_type": "code",
   "execution_count": 3,
   "id": "b5850898",
   "metadata": {},
   "outputs": [],
   "source": [
    "# entry = soup('table')[0]('tr')[1]('td')[0]"
   ]
  },
  {
   "cell_type": "code",
   "execution_count": 56,
   "id": "caa2d30d",
   "metadata": {},
   "outputs": [
    {
     "data": {
      "text/plain": [
       "256"
      ]
     },
     "execution_count": 56,
     "metadata": {},
     "output_type": "execute_result"
    }
   ],
   "source": [
    "links = []\n",
    "# seasons = list(range(2000,2021))\n",
    "weeks = list(range(1,18))\n",
    "seasons = [2019]\n",
    "\n",
    "for season in seasons:\n",
    "    for week in weeks:\n",
    "        html_page = requests.get('https://www.pro-football-reference.com/years/{}/week_{}.htm'.format(season, week))\n",
    "        soup = BeautifulSoup(html_page.content, 'html.parser')\n",
    "    \n",
    "        tables = soup('table')\n",
    "        \n",
    "        for i in range(len(tables)//2):\n",
    "            entry = tables[i*2]\n",
    "            link = entry.find('a')['href']\n",
    "            links.append(link)\n",
    "len(links)"
   ]
  },
  {
   "cell_type": "code",
   "execution_count": 57,
   "id": "5d6d7eb4",
   "metadata": {},
   "outputs": [],
   "source": [
    "html_page2 = requests.get('https://www.pro-football-reference.com/boxscores/201910170den.htm')\n",
    "soup2 = BeautifulSoup(html_page2.content, 'html.parser')"
   ]
  },
  {
   "cell_type": "code",
   "execution_count": 64,
   "id": "d0d3c78f",
   "metadata": {},
   "outputs": [
    {
     "data": {
      "text/plain": [
       "3"
      ]
     },
     "execution_count": 64,
     "metadata": {},
     "output_type": "execute_result"
    }
   ],
   "source": [
    "len(soup2('table'))"
   ]
  },
  {
   "cell_type": "code",
   "execution_count": 74,
   "id": "6f169251",
   "metadata": {},
   "outputs": [
    {
     "data": {
      "text/plain": [
       "8"
      ]
     },
     "execution_count": 74,
     "metadata": {},
     "output_type": "execute_result"
    }
   ],
   "source": [
    "len(soup2('table')[1]('tr'))"
   ]
  },
  {
   "cell_type": "code",
   "execution_count": 76,
   "id": "90f4bcaa",
   "metadata": {},
   "outputs": [
    {
     "data": {
      "text/plain": [
       "<tr><th class=\"center\" data-stat=\"quarter\" scope=\"row\">4</th><td class=\"right\" data-stat=\"time\">5:04</td><td class=\"left\" data-stat=\"team\">Chiefs</td><td class=\"left\" data-stat=\"description\"><a href=\"/players/B/ButkHa00.htm\">Harrison Butker</a> 39 yard field goal </td><td class=\"right\" data-stat=\"vis_team_score\">30</td><td class=\"right\" data-stat=\"home_team_score\">6</td></tr>"
      ]
     },
     "execution_count": 76,
     "metadata": {},
     "output_type": "execute_result"
    }
   ],
   "source": [
    "soup2('table')[1]('tr')[7]"
   ]
  },
  {
   "cell_type": "code",
   "execution_count": 113,
   "id": "e90b2737",
   "metadata": {},
   "outputs": [
    {
     "data": {
      "text/plain": [
       "1"
      ]
     },
     "execution_count": 113,
     "metadata": {},
     "output_type": "execute_result"
    }
   ],
   "source": [
    "len(soup2.find_all('div', {'id': \"all_team_stats\"}))"
   ]
  },
  {
   "cell_type": "code",
   "execution_count": 154,
   "id": "fd146aae",
   "metadata": {},
   "outputs": [
    {
     "data": {
      "text/plain": [
       "<div class=\"table_wrapper setup_commented commented\" id=\"all_team_stats\">\n",
       "<div class=\"section_heading assoc_team_stats\" id=\"team_stats_sh\">\n",
       "<span class=\"section_anchor\" data-label=\"Team Stats\" id=\"team_stats_link\"></span><h2>Team Stats</h2> <div class=\"section_heading_text\">\n",
       "<ul>\n",
       "</ul>\n",
       "</div>\n",
       "</div><div class=\"placeholder\"></div>\n",
       "<!--\n",
       "\n",
       "<div class=\"table_container\" id=\"div_team_stats\">\n",
       "    \n",
       "    <table class=\"add_controls stats_table\" id=\"team_stats\" data-cols-to-freeze=\",1\">\n",
       "    <caption>Team Stats Table</caption>\n",
       "    \n",
       "   <colgroup><col><col><col></colgroup>\n",
       "   <thead>      \n",
       "      <tr>\n",
       "         <th aria-label=\"stat\" data-stat=\"stat\" scope=\"col\" class=\" poptip center\" ></th>\n",
       "         <th aria-label=\"KAN\" data-stat=\"vis_stat\" scope=\"col\" class=\" poptip center\" >KAN</th>\n",
       "         <th aria-label=\"DEN\" data-stat=\"home_stat\" scope=\"col\" class=\" poptip center\" >DEN</th>\n",
       "      </tr>\n",
       "      </thead>\n",
       "<tbody><tr ><th scope=\"row\" class=\"right \" data-stat=\"stat\" >First Downs</th><td class=\"center \" data-stat=\"vis_stat\" >14</td><td class=\"center \" data-stat=\"home_stat\" >15</td></tr>\n",
       "<tr ><th scope=\"row\" class=\"right \" data-stat=\"stat\" >Rush-Yds-TDs</th><td class=\"center \" data-stat=\"vis_stat\" >27-80-0</td><td class=\"center \" data-stat=\"home_stat\" >21-71-1</td></tr>\n",
       "<tr ><th scope=\"row\" class=\"right \" data-stat=\"stat\" >Cmp-Att-Yd-TD-INT</th><td class=\"center \" data-stat=\"vis_stat\" >20-30-193-2-0</td><td class=\"center \" data-stat=\"home_stat\" >21-34-213-0-0</td></tr>\n",
       "<tr ><th scope=\"row\" class=\"right \" data-stat=\"stat\" >Sacked-Yards</th><td class=\"center \" data-stat=\"vis_stat\" >1-2</td><td class=\"center \" data-stat=\"home_stat\" >9-79</td></tr>\n",
       "<tr ><th scope=\"row\" class=\"right \" data-stat=\"stat\" >Net Pass Yards</th><td class=\"center \" data-stat=\"vis_stat\" >191</td><td class=\"center \" data-stat=\"home_stat\" >134</td></tr>\n",
       "<tr ><th scope=\"row\" class=\"right \" data-stat=\"stat\" >Total Yards</th><td class=\"center \" data-stat=\"vis_stat\" >271</td><td class=\"center \" data-stat=\"home_stat\" >205</td></tr>\n",
       "<tr ><th scope=\"row\" class=\"right \" data-stat=\"stat\" >Fumbles-Lost</th><td class=\"center \" data-stat=\"vis_stat\" >1-0</td><td class=\"center \" data-stat=\"home_stat\" >3-1</td></tr>\n",
       "<tr ><th scope=\"row\" class=\"right \" data-stat=\"stat\" >Turnovers</th><td class=\"center iz\" data-stat=\"vis_stat\" >0</td><td class=\"center \" data-stat=\"home_stat\" >1</td></tr>\n",
       "<tr ><th scope=\"row\" class=\"right \" data-stat=\"stat\" >Penalties-Yards</th><td class=\"center \" data-stat=\"vis_stat\" >6-46</td><td class=\"center \" data-stat=\"home_stat\" >4-33</td></tr>\n",
       "<tr ><th scope=\"row\" class=\"right \" data-stat=\"stat\" >Third Down Conv.</th><td class=\"center \" data-stat=\"vis_stat\" >5-15</td><td class=\"center \" data-stat=\"home_stat\" >1-13</td></tr>\n",
       "<tr ><th scope=\"row\" class=\"right \" data-stat=\"stat\" >Fourth Down Conv.</th><td class=\"center \" data-stat=\"vis_stat\" >1-1</td><td class=\"center \" data-stat=\"home_stat\" >1-3</td></tr>\n",
       "<tr ><th scope=\"row\" class=\"right \" data-stat=\"stat\" >Time of Possession</th><td class=\"center \" data-stat=\"vis_stat\" >32:13</td><td class=\"center \" data-stat=\"home_stat\" >27:47</td></tr>\n",
       "\n",
       "</table>\n",
       "\n",
       "\n",
       "</div>\n",
       "-->\n",
       "</div>"
      ]
     },
     "execution_count": 154,
     "metadata": {},
     "output_type": "execute_result"
    }
   ],
   "source": [
    "soup2.find_all('div', {'id': \"all_team_stats\"})[0]"
   ]
  },
  {
   "cell_type": "code",
   "execution_count": 158,
   "id": "51f44ac3",
   "metadata": {},
   "outputs": [
    {
     "data": {
      "text/plain": [
       "[]"
      ]
     },
     "execution_count": 158,
     "metadata": {},
     "output_type": "execute_result"
    }
   ],
   "source": [
    "soup2('div')[78]('body')"
   ]
  },
  {
   "cell_type": "code",
   "execution_count": 169,
   "id": "f2e0744a",
   "metadata": {},
   "outputs": [
    {
     "data": {
      "text/plain": [
       "[<td class=\"left\" data-stat=\"team\">KAN</td>,\n",
       " <td class=\"right\" data-stat=\"pass_cmp\">10</td>,\n",
       " <td class=\"right\" data-stat=\"pass_att\">19</td>,\n",
       " <td class=\"right\" data-stat=\"pass_yds\">117</td>,\n",
       " <td class=\"right\" data-stat=\"pass_td\">1</td>,\n",
       " <td class=\"right iz\" data-stat=\"pass_int\">0</td>,\n",
       " <td class=\"right\" data-stat=\"pass_sacked\">1</td>,\n",
       " <td class=\"right\" data-stat=\"pass_sacked_yds\">2</td>,\n",
       " <td class=\"right\" data-stat=\"pass_long\">57</td>,\n",
       " <td class=\"right\" data-stat=\"pass_rating\">89.1</td>,\n",
       " <td class=\"right\" data-stat=\"rush_att\">1</td>,\n",
       " <td class=\"right\" data-stat=\"rush_yds\">-1</td>,\n",
       " <td class=\"right iz\" data-stat=\"rush_td\">0</td>,\n",
       " <td class=\"right\" data-stat=\"rush_long\">-1</td>,\n",
       " <td class=\"right iz\" data-stat=\"targets\">0</td>,\n",
       " <td class=\"right iz\" data-stat=\"rec\">0</td>,\n",
       " <td class=\"right iz\" data-stat=\"rec_yds\">0</td>,\n",
       " <td class=\"right iz\" data-stat=\"rec_td\">0</td>,\n",
       " <td class=\"right iz\" data-stat=\"rec_long\">0</td>,\n",
       " <td class=\"right iz\" data-stat=\"fumbles\">0</td>,\n",
       " <td class=\"right iz\" data-stat=\"fumbles_lost\">0</td>]"
      ]
     },
     "execution_count": 169,
     "metadata": {},
     "output_type": "execute_result"
    }
   ],
   "source": [
    "soup2('table')[2]('tr')[2]('td')"
   ]
  },
  {
   "cell_type": "code",
   "execution_count": null,
   "id": "76aa3611",
   "metadata": {},
   "outputs": [],
   "source": []
  }
 ],
 "metadata": {
  "kernelspec": {
   "display_name": "Python (learn-env)",
   "language": "python",
   "name": "learn-env"
  },
  "language_info": {
   "codemirror_mode": {
    "name": "ipython",
    "version": 3
   },
   "file_extension": ".py",
   "mimetype": "text/x-python",
   "name": "python",
   "nbconvert_exporter": "python",
   "pygments_lexer": "ipython3",
   "version": "3.8.8"
  }
 },
 "nbformat": 4,
 "nbformat_minor": 5
}
