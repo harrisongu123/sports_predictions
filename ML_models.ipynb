{
 "cells": [
  {
   "cell_type": "code",
   "execution_count": 1,
   "id": "28c0ed49",
   "metadata": {},
   "outputs": [],
   "source": [
    "import pandas as pd\n",
    "import numpy as np\n",
    "from sklearn.model_selection import GridSearchCV, cross_val_score\n",
    "from sklearn.linear_model import LinearRegression\n",
    "from sklearn.model_selection import KFold\n",
    "from sklearn.model_selection import train_test_split\n",
    "from sklearn.metrics import mean_squared_error\n",
    "from sklearn.neighbors import KNeighborsRegressor\n",
    "from sklearn.tree import DecisionTreeRegressor\n",
    "from sklearn.ensemble import BaggingRegressor, RandomForestRegressor\n",
    "from sklearn.ensemble import AdaBoostRegressor, GradientBoostingRegressor\n",
    "from xgboost import XGBRegressor\n",
    "import matplotlib.pyplot as plt\n",
    "from sklearn.preprocessing import StandardScaler"
   ]
  },
  {
   "cell_type": "code",
   "execution_count": 2,
   "id": "da4e0497",
   "metadata": {},
   "outputs": [],
   "source": [
    "df = pd.read_csv('avg_by_game')\n",
    "odds = pd.read_csv('nba_game_odds')"
   ]
  },
  {
   "cell_type": "code",
   "execution_count": 3,
   "id": "94f0863d",
   "metadata": {},
   "outputs": [
    {
     "data": {
      "text/html": [
       "<div>\n",
       "<style scoped>\n",
       "    .dataframe tbody tr th:only-of-type {\n",
       "        vertical-align: middle;\n",
       "    }\n",
       "\n",
       "    .dataframe tbody tr th {\n",
       "        vertical-align: top;\n",
       "    }\n",
       "\n",
       "    .dataframe thead th {\n",
       "        text-align: right;\n",
       "    }\n",
       "</style>\n",
       "<table border=\"1\" class=\"dataframe\">\n",
       "  <thead>\n",
       "    <tr style=\"text-align: right;\">\n",
       "      <th></th>\n",
       "      <th>Unnamed: 0</th>\n",
       "      <th>Home Points For</th>\n",
       "      <th>Home Points Against</th>\n",
       "      <th>Home eFG%</th>\n",
       "      <th>Home FTr</th>\n",
       "      <th>Home ORB%</th>\n",
       "      <th>Home DRB%</th>\n",
       "      <th>Home AST%</th>\n",
       "      <th>Home STL%</th>\n",
       "      <th>Home BLK%</th>\n",
       "      <th>...</th>\n",
       "      <th>Away AST%</th>\n",
       "      <th>Away STL%</th>\n",
       "      <th>Away BLK%</th>\n",
       "      <th>Away TOV%</th>\n",
       "      <th>Away ORTG</th>\n",
       "      <th>Away DRtg</th>\n",
       "      <th>Away GP</th>\n",
       "      <th>Away Win Rate</th>\n",
       "      <th>Home Win By</th>\n",
       "      <th>Home Wins By (Vegas)</th>\n",
       "    </tr>\n",
       "  </thead>\n",
       "  <tbody>\n",
       "    <tr>\n",
       "      <th>0</th>\n",
       "      <td>2011-12-25 00:00:00 Boston @ New York</td>\n",
       "      <td>106.0</td>\n",
       "      <td>104.0</td>\n",
       "      <td>0.534</td>\n",
       "      <td>0.459</td>\n",
       "      <td>22.2</td>\n",
       "      <td>63.9</td>\n",
       "      <td>48.6</td>\n",
       "      <td>9.7</td>\n",
       "      <td>15.5</td>\n",
       "      <td>...</td>\n",
       "      <td>71.8</td>\n",
       "      <td>7.5</td>\n",
       "      <td>9.3</td>\n",
       "      <td>16.7</td>\n",
       "      <td>111.6</td>\n",
       "      <td>113.7</td>\n",
       "      <td>1</td>\n",
       "      <td>0.0</td>\n",
       "      <td>2</td>\n",
       "      <td>4.5</td>\n",
       "    </tr>\n",
       "    <tr>\n",
       "      <th>1</th>\n",
       "      <td>2011-12-25 00:00:00 Chicago @ Lakers</td>\n",
       "      <td>87.0</td>\n",
       "      <td>88.0</td>\n",
       "      <td>0.500</td>\n",
       "      <td>0.263</td>\n",
       "      <td>32.4</td>\n",
       "      <td>65.2</td>\n",
       "      <td>61.1</td>\n",
       "      <td>6.8</td>\n",
       "      <td>10.8</td>\n",
       "      <td>...</td>\n",
       "      <td>58.3</td>\n",
       "      <td>15.9</td>\n",
       "      <td>6.7</td>\n",
       "      <td>12.8</td>\n",
       "      <td>100.0</td>\n",
       "      <td>98.9</td>\n",
       "      <td>1</td>\n",
       "      <td>1.0</td>\n",
       "      <td>-1</td>\n",
       "      <td>-5.0</td>\n",
       "    </tr>\n",
       "    <tr>\n",
       "      <th>2</th>\n",
       "      <td>2011-12-25 00:00:00 Clippers @ Golden State</td>\n",
       "      <td>86.0</td>\n",
       "      <td>105.0</td>\n",
       "      <td>0.421</td>\n",
       "      <td>0.293</td>\n",
       "      <td>36.2</td>\n",
       "      <td>70.5</td>\n",
       "      <td>53.1</td>\n",
       "      <td>4.4</td>\n",
       "      <td>13.8</td>\n",
       "      <td>...</td>\n",
       "      <td>59.5</td>\n",
       "      <td>10.0</td>\n",
       "      <td>13.1</td>\n",
       "      <td>9.3</td>\n",
       "      <td>116.3</td>\n",
       "      <td>95.3</td>\n",
       "      <td>1</td>\n",
       "      <td>1.0</td>\n",
       "      <td>-19</td>\n",
       "      <td>-4.5</td>\n",
       "    </tr>\n",
       "    <tr>\n",
       "      <th>3</th>\n",
       "      <td>2011-12-25 00:00:00 Miami @ Dallas</td>\n",
       "      <td>94.0</td>\n",
       "      <td>105.0</td>\n",
       "      <td>0.433</td>\n",
       "      <td>0.366</td>\n",
       "      <td>18.2</td>\n",
       "      <td>60.5</td>\n",
       "      <td>74.2</td>\n",
       "      <td>10.1</td>\n",
       "      <td>0.0</td>\n",
       "      <td>...</td>\n",
       "      <td>47.4</td>\n",
       "      <td>9.1</td>\n",
       "      <td>11.1</td>\n",
       "      <td>19.0</td>\n",
       "      <td>105.7</td>\n",
       "      <td>94.7</td>\n",
       "      <td>1</td>\n",
       "      <td>1.0</td>\n",
       "      <td>-11</td>\n",
       "      <td>-4.5</td>\n",
       "    </tr>\n",
       "    <tr>\n",
       "      <th>4</th>\n",
       "      <td>2011-12-25 00:00:00 Orlando @ Oklahoma City</td>\n",
       "      <td>97.0</td>\n",
       "      <td>89.0</td>\n",
       "      <td>0.542</td>\n",
       "      <td>0.361</td>\n",
       "      <td>18.4</td>\n",
       "      <td>72.0</td>\n",
       "      <td>61.8</td>\n",
       "      <td>8.6</td>\n",
       "      <td>9.4</td>\n",
       "      <td>...</td>\n",
       "      <td>60.0</td>\n",
       "      <td>7.6</td>\n",
       "      <td>7.5</td>\n",
       "      <td>16.3</td>\n",
       "      <td>96.2</td>\n",
       "      <td>104.8</td>\n",
       "      <td>1</td>\n",
       "      <td>0.0</td>\n",
       "      <td>8</td>\n",
       "      <td>7.5</td>\n",
       "    </tr>\n",
       "  </tbody>\n",
       "</table>\n",
       "<p>5 rows × 31 columns</p>\n",
       "</div>"
      ],
      "text/plain": [
       "                                    Unnamed: 0  Home Points For  \\\n",
       "0        2011-12-25 00:00:00 Boston @ New York            106.0   \n",
       "1         2011-12-25 00:00:00 Chicago @ Lakers             87.0   \n",
       "2  2011-12-25 00:00:00 Clippers @ Golden State             86.0   \n",
       "3           2011-12-25 00:00:00 Miami @ Dallas             94.0   \n",
       "4  2011-12-25 00:00:00 Orlando @ Oklahoma City             97.0   \n",
       "\n",
       "   Home Points Against  Home eFG%  Home FTr  Home ORB%  Home DRB%  Home AST%  \\\n",
       "0                104.0      0.534     0.459       22.2       63.9       48.6   \n",
       "1                 88.0      0.500     0.263       32.4       65.2       61.1   \n",
       "2                105.0      0.421     0.293       36.2       70.5       53.1   \n",
       "3                105.0      0.433     0.366       18.2       60.5       74.2   \n",
       "4                 89.0      0.542     0.361       18.4       72.0       61.8   \n",
       "\n",
       "   Home STL%  Home BLK%  ...  Away AST%  Away STL%  Away BLK%  Away TOV%  \\\n",
       "0        9.7       15.5  ...       71.8        7.5        9.3       16.7   \n",
       "1        6.8       10.8  ...       58.3       15.9        6.7       12.8   \n",
       "2        4.4       13.8  ...       59.5       10.0       13.1        9.3   \n",
       "3       10.1        0.0  ...       47.4        9.1       11.1       19.0   \n",
       "4        8.6        9.4  ...       60.0        7.6        7.5       16.3   \n",
       "\n",
       "   Away ORTG  Away DRtg  Away GP  Away Win Rate  Home Win By  \\\n",
       "0      111.6      113.7        1            0.0            2   \n",
       "1      100.0       98.9        1            1.0           -1   \n",
       "2      116.3       95.3        1            1.0          -19   \n",
       "3      105.7       94.7        1            1.0          -11   \n",
       "4       96.2      104.8        1            0.0            8   \n",
       "\n",
       "   Home Wins By (Vegas)  \n",
       "0                   4.5  \n",
       "1                  -5.0  \n",
       "2                  -4.5  \n",
       "3                  -4.5  \n",
       "4                   7.5  \n",
       "\n",
       "[5 rows x 31 columns]"
      ]
     },
     "execution_count": 3,
     "metadata": {},
     "output_type": "execute_result"
    }
   ],
   "source": [
    "df.head()"
   ]
  },
  {
   "cell_type": "code",
   "execution_count": 4,
   "id": "11f88619",
   "metadata": {},
   "outputs": [
    {
     "data": {
      "text/html": [
       "<div>\n",
       "<style scoped>\n",
       "    .dataframe tbody tr th:only-of-type {\n",
       "        vertical-align: middle;\n",
       "    }\n",
       "\n",
       "    .dataframe tbody tr th {\n",
       "        vertical-align: top;\n",
       "    }\n",
       "\n",
       "    .dataframe thead th {\n",
       "        text-align: right;\n",
       "    }\n",
       "</style>\n",
       "<table border=\"1\" class=\"dataframe\">\n",
       "  <thead>\n",
       "    <tr style=\"text-align: right;\">\n",
       "      <th></th>\n",
       "      <th>GameID</th>\n",
       "      <th>Date</th>\n",
       "      <th>Season</th>\n",
       "      <th>Home</th>\n",
       "      <th>Away</th>\n",
       "      <th>Home Win By (Vegas)</th>\n",
       "    </tr>\n",
       "  </thead>\n",
       "  <tbody>\n",
       "    <tr>\n",
       "      <th>0</th>\n",
       "      <td>2011-12-25 00:00:00 Boston @ New York</td>\n",
       "      <td>2011-12-25</td>\n",
       "      <td>2011</td>\n",
       "      <td>New York</td>\n",
       "      <td>Boston</td>\n",
       "      <td>4.5</td>\n",
       "    </tr>\n",
       "    <tr>\n",
       "      <th>1</th>\n",
       "      <td>2011-12-25 00:00:00 Chicago @ Lakers</td>\n",
       "      <td>2011-12-25</td>\n",
       "      <td>2011</td>\n",
       "      <td>Lakers</td>\n",
       "      <td>Chicago</td>\n",
       "      <td>-5.0</td>\n",
       "    </tr>\n",
       "    <tr>\n",
       "      <th>2</th>\n",
       "      <td>2011-12-25 00:00:00 Clippers @ Golden State</td>\n",
       "      <td>2011-12-25</td>\n",
       "      <td>2011</td>\n",
       "      <td>Golden State</td>\n",
       "      <td>Clippers</td>\n",
       "      <td>-4.5</td>\n",
       "    </tr>\n",
       "    <tr>\n",
       "      <th>3</th>\n",
       "      <td>2011-12-25 00:00:00 Miami @ Dallas</td>\n",
       "      <td>2011-12-25</td>\n",
       "      <td>2011</td>\n",
       "      <td>Dallas</td>\n",
       "      <td>Miami</td>\n",
       "      <td>-4.5</td>\n",
       "    </tr>\n",
       "    <tr>\n",
       "      <th>4</th>\n",
       "      <td>2011-12-25 00:00:00 Orlando @ Oklahoma City</td>\n",
       "      <td>2011-12-25</td>\n",
       "      <td>2011</td>\n",
       "      <td>Oklahoma City</td>\n",
       "      <td>Orlando</td>\n",
       "      <td>7.5</td>\n",
       "    </tr>\n",
       "  </tbody>\n",
       "</table>\n",
       "</div>"
      ],
      "text/plain": [
       "                                        GameID        Date  Season  \\\n",
       "0        2011-12-25 00:00:00 Boston @ New York  2011-12-25    2011   \n",
       "1         2011-12-25 00:00:00 Chicago @ Lakers  2011-12-25    2011   \n",
       "2  2011-12-25 00:00:00 Clippers @ Golden State  2011-12-25    2011   \n",
       "3           2011-12-25 00:00:00 Miami @ Dallas  2011-12-25    2011   \n",
       "4  2011-12-25 00:00:00 Orlando @ Oklahoma City  2011-12-25    2011   \n",
       "\n",
       "            Home      Away  Home Win By (Vegas)  \n",
       "0       New York    Boston                  4.5  \n",
       "1         Lakers   Chicago                 -5.0  \n",
       "2   Golden State  Clippers                 -4.5  \n",
       "3         Dallas     Miami                 -4.5  \n",
       "4  Oklahoma City   Orlando                  7.5  "
      ]
     },
     "execution_count": 4,
     "metadata": {},
     "output_type": "execute_result"
    }
   ],
   "source": [
    "odds.head()"
   ]
  },
  {
   "cell_type": "code",
   "execution_count": 5,
   "id": "e267540a",
   "metadata": {},
   "outputs": [],
   "source": [
    "data = df.drop(columns='Unnamed: 0')"
   ]
  },
  {
   "cell_type": "code",
   "execution_count": 6,
   "id": "d2504996",
   "metadata": {},
   "outputs": [
    {
     "data": {
      "text/html": [
       "<div>\n",
       "<style scoped>\n",
       "    .dataframe tbody tr th:only-of-type {\n",
       "        vertical-align: middle;\n",
       "    }\n",
       "\n",
       "    .dataframe tbody tr th {\n",
       "        vertical-align: top;\n",
       "    }\n",
       "\n",
       "    .dataframe thead th {\n",
       "        text-align: right;\n",
       "    }\n",
       "</style>\n",
       "<table border=\"1\" class=\"dataframe\">\n",
       "  <thead>\n",
       "    <tr style=\"text-align: right;\">\n",
       "      <th></th>\n",
       "      <th>Home Points For</th>\n",
       "      <th>Home Points Against</th>\n",
       "      <th>Home eFG%</th>\n",
       "      <th>Home FTr</th>\n",
       "      <th>Home ORB%</th>\n",
       "      <th>Home DRB%</th>\n",
       "      <th>Home AST%</th>\n",
       "      <th>Home STL%</th>\n",
       "      <th>Home BLK%</th>\n",
       "      <th>Home TOV%</th>\n",
       "      <th>...</th>\n",
       "      <th>Away AST%</th>\n",
       "      <th>Away STL%</th>\n",
       "      <th>Away BLK%</th>\n",
       "      <th>Away TOV%</th>\n",
       "      <th>Away ORTG</th>\n",
       "      <th>Away DRtg</th>\n",
       "      <th>Away GP</th>\n",
       "      <th>Away Win Rate</th>\n",
       "      <th>Home Win By</th>\n",
       "      <th>Home Wins By (Vegas)</th>\n",
       "    </tr>\n",
       "  </thead>\n",
       "  <tbody>\n",
       "    <tr>\n",
       "      <th>0</th>\n",
       "      <td>106.0</td>\n",
       "      <td>104.0</td>\n",
       "      <td>0.534</td>\n",
       "      <td>0.459</td>\n",
       "      <td>22.2</td>\n",
       "      <td>63.9</td>\n",
       "      <td>48.6</td>\n",
       "      <td>9.7</td>\n",
       "      <td>15.5</td>\n",
       "      <td>15.2</td>\n",
       "      <td>...</td>\n",
       "      <td>71.8</td>\n",
       "      <td>7.5</td>\n",
       "      <td>9.3</td>\n",
       "      <td>16.7</td>\n",
       "      <td>111.6</td>\n",
       "      <td>113.7</td>\n",
       "      <td>1</td>\n",
       "      <td>0.0</td>\n",
       "      <td>2</td>\n",
       "      <td>4.5</td>\n",
       "    </tr>\n",
       "    <tr>\n",
       "      <th>1</th>\n",
       "      <td>87.0</td>\n",
       "      <td>88.0</td>\n",
       "      <td>0.500</td>\n",
       "      <td>0.263</td>\n",
       "      <td>32.4</td>\n",
       "      <td>65.2</td>\n",
       "      <td>61.1</td>\n",
       "      <td>6.8</td>\n",
       "      <td>10.8</td>\n",
       "      <td>16.7</td>\n",
       "      <td>...</td>\n",
       "      <td>58.3</td>\n",
       "      <td>15.9</td>\n",
       "      <td>6.7</td>\n",
       "      <td>12.8</td>\n",
       "      <td>100.0</td>\n",
       "      <td>98.9</td>\n",
       "      <td>1</td>\n",
       "      <td>1.0</td>\n",
       "      <td>-1</td>\n",
       "      <td>-5.0</td>\n",
       "    </tr>\n",
       "    <tr>\n",
       "      <th>2</th>\n",
       "      <td>86.0</td>\n",
       "      <td>105.0</td>\n",
       "      <td>0.421</td>\n",
       "      <td>0.293</td>\n",
       "      <td>36.2</td>\n",
       "      <td>70.5</td>\n",
       "      <td>53.1</td>\n",
       "      <td>4.4</td>\n",
       "      <td>13.8</td>\n",
       "      <td>14.7</td>\n",
       "      <td>...</td>\n",
       "      <td>59.5</td>\n",
       "      <td>10.0</td>\n",
       "      <td>13.1</td>\n",
       "      <td>9.3</td>\n",
       "      <td>116.3</td>\n",
       "      <td>95.3</td>\n",
       "      <td>1</td>\n",
       "      <td>1.0</td>\n",
       "      <td>-19</td>\n",
       "      <td>-4.5</td>\n",
       "    </tr>\n",
       "    <tr>\n",
       "      <th>3</th>\n",
       "      <td>94.0</td>\n",
       "      <td>105.0</td>\n",
       "      <td>0.433</td>\n",
       "      <td>0.366</td>\n",
       "      <td>18.2</td>\n",
       "      <td>60.5</td>\n",
       "      <td>74.2</td>\n",
       "      <td>10.1</td>\n",
       "      <td>0.0</td>\n",
       "      <td>15.2</td>\n",
       "      <td>...</td>\n",
       "      <td>47.4</td>\n",
       "      <td>9.1</td>\n",
       "      <td>11.1</td>\n",
       "      <td>19.0</td>\n",
       "      <td>105.7</td>\n",
       "      <td>94.7</td>\n",
       "      <td>1</td>\n",
       "      <td>1.0</td>\n",
       "      <td>-11</td>\n",
       "      <td>-4.5</td>\n",
       "    </tr>\n",
       "    <tr>\n",
       "      <th>4</th>\n",
       "      <td>97.0</td>\n",
       "      <td>89.0</td>\n",
       "      <td>0.542</td>\n",
       "      <td>0.361</td>\n",
       "      <td>18.4</td>\n",
       "      <td>72.0</td>\n",
       "      <td>61.8</td>\n",
       "      <td>8.6</td>\n",
       "      <td>9.4</td>\n",
       "      <td>16.1</td>\n",
       "      <td>...</td>\n",
       "      <td>60.0</td>\n",
       "      <td>7.6</td>\n",
       "      <td>7.5</td>\n",
       "      <td>16.3</td>\n",
       "      <td>96.2</td>\n",
       "      <td>104.8</td>\n",
       "      <td>1</td>\n",
       "      <td>0.0</td>\n",
       "      <td>8</td>\n",
       "      <td>7.5</td>\n",
       "    </tr>\n",
       "  </tbody>\n",
       "</table>\n",
       "<p>5 rows × 30 columns</p>\n",
       "</div>"
      ],
      "text/plain": [
       "   Home Points For  Home Points Against  Home eFG%  Home FTr  Home ORB%  \\\n",
       "0            106.0                104.0      0.534     0.459       22.2   \n",
       "1             87.0                 88.0      0.500     0.263       32.4   \n",
       "2             86.0                105.0      0.421     0.293       36.2   \n",
       "3             94.0                105.0      0.433     0.366       18.2   \n",
       "4             97.0                 89.0      0.542     0.361       18.4   \n",
       "\n",
       "   Home DRB%  Home AST%  Home STL%  Home BLK%  Home TOV%  ...  Away AST%  \\\n",
       "0       63.9       48.6        9.7       15.5       15.2  ...       71.8   \n",
       "1       65.2       61.1        6.8       10.8       16.7  ...       58.3   \n",
       "2       70.5       53.1        4.4       13.8       14.7  ...       59.5   \n",
       "3       60.5       74.2       10.1        0.0       15.2  ...       47.4   \n",
       "4       72.0       61.8        8.6        9.4       16.1  ...       60.0   \n",
       "\n",
       "   Away STL%  Away BLK%  Away TOV%  Away ORTG  Away DRtg  Away GP  \\\n",
       "0        7.5        9.3       16.7      111.6      113.7        1   \n",
       "1       15.9        6.7       12.8      100.0       98.9        1   \n",
       "2       10.0       13.1        9.3      116.3       95.3        1   \n",
       "3        9.1       11.1       19.0      105.7       94.7        1   \n",
       "4        7.6        7.5       16.3       96.2      104.8        1   \n",
       "\n",
       "   Away Win Rate  Home Win By  Home Wins By (Vegas)  \n",
       "0            0.0            2                   4.5  \n",
       "1            1.0           -1                  -5.0  \n",
       "2            1.0          -19                  -4.5  \n",
       "3            1.0          -11                  -4.5  \n",
       "4            0.0            8                   7.5  \n",
       "\n",
       "[5 rows x 30 columns]"
      ]
     },
     "execution_count": 6,
     "metadata": {},
     "output_type": "execute_result"
    }
   ],
   "source": [
    "data.head()"
   ]
  },
  {
   "cell_type": "code",
   "execution_count": 7,
   "id": "0c478c24",
   "metadata": {},
   "outputs": [],
   "source": [
    "y = data['Home Win By']\n",
    "x = data.drop(columns='Home Win By')"
   ]
  },
  {
   "cell_type": "code",
   "execution_count": 8,
   "id": "54a4e9e0",
   "metadata": {},
   "outputs": [
    {
     "name": "stdout",
     "output_type": "stream",
     "text": [
      "11.298900033403676\n"
     ]
    }
   ],
   "source": [
    "linreg = LinearRegression()\n",
    "crossvalidation = KFold(n_splits = 10, shuffle = True, random_state = 1)\n",
    "mean_r2 = np.mean(cross_val_score(linreg, x, y, scoring='r2', cv=crossvalidation))\n",
    "mse = np.mean(cross_val_score(linreg, x, y, scoring='neg_mean_squared_error', cv=crossvalidation))*-1\n",
    "rmse = np.sqrt(mse)\n",
    "\n",
    "print(rmse)"
   ]
  },
  {
   "cell_type": "code",
   "execution_count": 9,
   "id": "d0463ab9",
   "metadata": {},
   "outputs": [],
   "source": [
    "knn = KNeighborsRegressor()\n",
    "dtc = DecisionTreeRegressor(random_state=42)\n",
    "bagged_tree = BaggingRegressor(DecisionTreeRegressor())\n",
    "forest = RandomForestRegressor()\n",
    "ada = AdaBoostRegressor(random_state=42)\n",
    "gb = GradientBoostingRegressor(random_state=42)\n",
    "xgb = XGBRegressor()"
   ]
  },
  {
   "cell_type": "code",
   "execution_count": 10,
   "id": "a7659799",
   "metadata": {},
   "outputs": [],
   "source": [
    "models = [knn,dtc,bagged_tree,forest,ada,gb,xgb]"
   ]
  },
  {
   "cell_type": "code",
   "execution_count": 11,
   "id": "f89c7ee3",
   "metadata": {},
   "outputs": [],
   "source": [
    "x_train, x_test, y_train, y_test = train_test_split(x, y, test_size=0.25, random_state=42)"
   ]
  },
  {
   "cell_type": "code",
   "execution_count": 12,
   "id": "5502067e",
   "metadata": {},
   "outputs": [],
   "source": [
    "def run_model(x_train, x_test, y_train, y_test, model, scale=False):\n",
    "\n",
    "    model.fit(x_train, y_train)\n",
    "    y_train_pred = model.predict(x_train)\n",
    "    y_test_pred = model.predict(x_test)\n",
    "    \n",
    "    print('Training RMSE for {} model: {}'.format(model, mean_squared_error(y_train, y_train_pred)**0.5))\n",
    "    print('Testing RMSE for {} model: {}'.format(model, mean_squared_error(y_test, y_test_pred)**0.5))\n",
    "    "
   ]
  },
  {
   "cell_type": "code",
   "execution_count": 13,
   "id": "5d662133",
   "metadata": {},
   "outputs": [
    {
     "name": "stdout",
     "output_type": "stream",
     "text": [
      "Training RMSE for KNeighborsRegressor() model: 10.273385418274428\n",
      "Testing RMSE for KNeighborsRegressor() model: 12.33755169717949\n",
      "Training RMSE for DecisionTreeRegressor(random_state=42) model: 0.0\n",
      "Testing RMSE for DecisionTreeRegressor(random_state=42) model: 16.435310263967928\n",
      "Training RMSE for BaggingRegressor(base_estimator=DecisionTreeRegressor()) model: 5.194521448324096\n",
      "Testing RMSE for BaggingRegressor(base_estimator=DecisionTreeRegressor()) model: 11.825358818546324\n",
      "Training RMSE for RandomForestRegressor() model: 4.362790176743191\n",
      "Testing RMSE for RandomForestRegressor() model: 11.267320756119291\n",
      "Training RMSE for AdaBoostRegressor(random_state=42) model: 11.642723867259692\n",
      "Testing RMSE for AdaBoostRegressor(random_state=42) model: 11.374183983898863\n",
      "Training RMSE for GradientBoostingRegressor(random_state=42) model: 10.804328807822728\n",
      "Testing RMSE for GradientBoostingRegressor(random_state=42) model: 11.139825187403066\n",
      "Training RMSE for XGBRegressor(base_score=0.5, booster='gbtree', colsample_bylevel=1,\n",
      "             colsample_bynode=1, colsample_bytree=1, gamma=0, gpu_id=-1,\n",
      "             importance_type='gain', interaction_constraints='',\n",
      "             learning_rate=0.300000012, max_delta_step=0, max_depth=6,\n",
      "             min_child_weight=1, missing=nan, monotone_constraints='()',\n",
      "             n_estimators=100, n_jobs=8, num_parallel_tree=1, random_state=0,\n",
      "             reg_alpha=0, reg_lambda=1, scale_pos_weight=1, subsample=1,\n",
      "             tree_method='exact', validate_parameters=1, verbosity=None) model: 5.2488567522391145\n",
      "Testing RMSE for XGBRegressor(base_score=0.5, booster='gbtree', colsample_bylevel=1,\n",
      "             colsample_bynode=1, colsample_bytree=1, gamma=0, gpu_id=-1,\n",
      "             importance_type='gain', interaction_constraints='',\n",
      "             learning_rate=0.300000012, max_delta_step=0, max_depth=6,\n",
      "             min_child_weight=1, missing=nan, monotone_constraints='()',\n",
      "             n_estimators=100, n_jobs=8, num_parallel_tree=1, random_state=0,\n",
      "             reg_alpha=0, reg_lambda=1, scale_pos_weight=1, subsample=1,\n",
      "             tree_method='exact', validate_parameters=1, verbosity=None) model: 11.820437280048662\n"
     ]
    }
   ],
   "source": [
    "for model in models:\n",
    "    run_model(x_train, x_test, y_train, y_test, model)"
   ]
  },
  {
   "cell_type": "markdown",
   "id": "43757059",
   "metadata": {},
   "source": [
    "See if we can add exogenous variables. We will use the Vegas pregame line as a metric for \"surprise factor\". For example, if a star player is newly injured, or teams are resting their starters, those won't be reflected in the pregame stats. However, they will reflected in Vegas odds. This is reasonable for us to use in our business because not every book has to set lines at the same time. Being a little bit behind Vegas is worth the additional information."
   ]
  },
  {
   "cell_type": "code",
   "execution_count": 84,
   "id": "d8d8f6e2",
   "metadata": {},
   "outputs": [],
   "source": [
    "data2 = df.set_index(df['Unnamed: 0'], drop=True)\n",
    "data2.index.rename('GameID', inplace=True)\n",
    "\n",
    "odds.set_index(odds['GameID'], drop=True, inplace=True)"
   ]
  },
  {
   "cell_type": "code",
   "execution_count": 89,
   "id": "b123fe63",
   "metadata": {},
   "outputs": [],
   "source": [
    "data2.drop(columns='Unnamed: 0', inplace=True)"
   ]
  },
  {
   "cell_type": "code",
   "execution_count": 16,
   "id": "bc2a49f1",
   "metadata": {},
   "outputs": [],
   "source": [
    "data2.sort_index(inplace=True)\n",
    "odds.sort_index(inplace=True)\n",
    "data2['Home Wins By (Vegas)'] = odds['Home Win By (Vegas)']"
   ]
  },
  {
   "cell_type": "code",
   "execution_count": 17,
   "id": "53b1704e",
   "metadata": {},
   "outputs": [
    {
     "name": "stderr",
     "output_type": "stream",
     "text": [
      "<ipython-input-17-c2bee9f7699c>:2: SettingWithCopyWarning: \n",
      "A value is trying to be set on a copy of a slice from a DataFrame\n",
      "\n",
      "See the caveats in the documentation: https://pandas.pydata.org/pandas-docs/stable/user_guide/indexing.html#returning-a-view-versus-a-copy\n",
      "  data2['Home Wins By (Vegas)'][i] = odds['Home Win By (Vegas)'][i]\n"
     ]
    }
   ],
   "source": [
    "for i in range(len(data2)):\n",
    "    data2['Home Wins By (Vegas)'][i] = odds['Home Win By (Vegas)'][i]"
   ]
  },
  {
   "cell_type": "code",
   "execution_count": 18,
   "id": "02f5f40a",
   "metadata": {},
   "outputs": [],
   "source": [
    "x2 = data2.drop(columns='Home Win By')\n",
    "\n",
    "y2 = data2['Home Win By']"
   ]
  },
  {
   "cell_type": "code",
   "execution_count": 19,
   "id": "004cde06",
   "metadata": {},
   "outputs": [],
   "source": [
    "x_train2, x_test2, y_train2, y_test2 = train_test_split(x2, y2, test_size=0.25, random_state=42)"
   ]
  },
  {
   "cell_type": "code",
   "execution_count": 20,
   "id": "e62e384d",
   "metadata": {
    "scrolled": false
   },
   "outputs": [
    {
     "name": "stdout",
     "output_type": "stream",
     "text": [
      "Training RMSE for KNeighborsRegressor() model: 10.273385418274428\n",
      "Testing RMSE for KNeighborsRegressor() model: 12.33755169717949\n",
      "Training RMSE for DecisionTreeRegressor(random_state=42) model: 0.0\n",
      "Testing RMSE for DecisionTreeRegressor(random_state=42) model: 16.435310263967928\n",
      "Training RMSE for BaggingRegressor(base_estimator=DecisionTreeRegressor()) model: 5.190569868239976\n",
      "Testing RMSE for BaggingRegressor(base_estimator=DecisionTreeRegressor()) model: 11.730843406513447\n",
      "Training RMSE for RandomForestRegressor() model: 4.332260041219238\n",
      "Testing RMSE for RandomForestRegressor() model: 11.262190025000967\n",
      "Training RMSE for AdaBoostRegressor(random_state=42) model: 11.642723867259692\n",
      "Testing RMSE for AdaBoostRegressor(random_state=42) model: 11.374183983898863\n",
      "Training RMSE for GradientBoostingRegressor(random_state=42) model: 10.804328807822728\n",
      "Testing RMSE for GradientBoostingRegressor(random_state=42) model: 11.139825187403066\n",
      "Training RMSE for XGBRegressor(base_score=0.5, booster='gbtree', colsample_bylevel=1,\n",
      "             colsample_bynode=1, colsample_bytree=1, gamma=0, gpu_id=-1,\n",
      "             importance_type='gain', interaction_constraints='',\n",
      "             learning_rate=0.300000012, max_delta_step=0, max_depth=6,\n",
      "             min_child_weight=1, missing=nan, monotone_constraints='()',\n",
      "             n_estimators=100, n_jobs=8, num_parallel_tree=1, random_state=0,\n",
      "             reg_alpha=0, reg_lambda=1, scale_pos_weight=1, subsample=1,\n",
      "             tree_method='exact', validate_parameters=1, verbosity=None) model: 5.2488567522391145\n",
      "Testing RMSE for XGBRegressor(base_score=0.5, booster='gbtree', colsample_bylevel=1,\n",
      "             colsample_bynode=1, colsample_bytree=1, gamma=0, gpu_id=-1,\n",
      "             importance_type='gain', interaction_constraints='',\n",
      "             learning_rate=0.300000012, max_delta_step=0, max_depth=6,\n",
      "             min_child_weight=1, missing=nan, monotone_constraints='()',\n",
      "             n_estimators=100, n_jobs=8, num_parallel_tree=1, random_state=0,\n",
      "             reg_alpha=0, reg_lambda=1, scale_pos_weight=1, subsample=1,\n",
      "             tree_method='exact', validate_parameters=1, verbosity=None) model: 11.820437280048662\n"
     ]
    }
   ],
   "source": [
    "for model in models:\n",
    "    run_model(x_train2, x_test2, y_train2, y_test2, model)"
   ]
  },
  {
   "cell_type": "code",
   "execution_count": 21,
   "id": "8f34e5e5",
   "metadata": {},
   "outputs": [],
   "source": [
    "# rf_param_grid = {\n",
    "#     'n_estimators': [50, 100, 150, 200],\n",
    "#     'max_depth': [None, 1, 5, 10],\n",
    "#     'min_samples_split': [1, 3, 5],\n",
    "#     'min_samples_leaf': [1, 3, 5]\n",
    "# }\n",
    "# forest2 = RandomForestRegressor()\n",
    "# forest2.fit(x_train2, y_train2)"
   ]
  },
  {
   "cell_type": "code",
   "execution_count": 22,
   "id": "27a1fb31",
   "metadata": {},
   "outputs": [],
   "source": [
    "# dt_grid_search = GridSearchCV(forest2, rf_param_grid, cv=3, return_train_score=True)\n",
    "# dt_grid_search.fit(x_train2,y_train2)\n",
    "# dt_grid_search.best_params_"
   ]
  },
  {
   "cell_type": "code",
   "execution_count": 23,
   "id": "dbc4b380",
   "metadata": {},
   "outputs": [],
   "source": [
    "# rf_param_grid2 = {\n",
    "#     'n_estimators': [100, 200, 300],\n",
    "#     'max_depth': [10, 15, 20],\n",
    "#     'min_samples_split': [2,3,4],\n",
    "#     'min_samples_leaf': [2,3,4]\n",
    "# }"
   ]
  },
  {
   "cell_type": "code",
   "execution_count": 24,
   "id": "79408cff",
   "metadata": {},
   "outputs": [],
   "source": [
    "# dt_grid_search2 = GridSearchCV(forest2, rf_param_grid2, cv=3, return_train_score=True)\n",
    "# dt_grid_search2.fit(x_train2,y_train2)\n",
    "# dt_grid_search.best_params_"
   ]
  },
  {
   "cell_type": "code",
   "execution_count": 25,
   "id": "415a59be",
   "metadata": {},
   "outputs": [],
   "source": [
    "forest3 = RandomForestRegressor(max_depth=10, min_samples_leaf=3, min_samples_split=3, n_estimators=200)\n",
    "forest3.fit(x_train2, y_train2)\n",
    "y_train3_pred = forest3.predict(x_train2)\n",
    "y_test3_pred = forest3.predict(x_test2)"
   ]
  },
  {
   "cell_type": "code",
   "execution_count": 26,
   "id": "52944ed4",
   "metadata": {},
   "outputs": [
    {
     "name": "stdout",
     "output_type": "stream",
     "text": [
      "Training RMSE for random forest model using optimal parameters: 8.985851122766963\n",
      "Testing RMSE for random forest model using optimal parameters: 11.188071440452962\n"
     ]
    }
   ],
   "source": [
    "print('Training RMSE for random forest model using optimal parameters: {}'.format(mean_squared_error(y_train2, y_train3_pred)**0.5))\n",
    "print('Testing RMSE for random forest model using optimal parameters: {}'.format(mean_squared_error(y_test2, y_test3_pred)**0.5))"
   ]
  },
  {
   "cell_type": "code",
   "execution_count": 27,
   "id": "3391c9dc",
   "metadata": {},
   "outputs": [],
   "source": [
    "# rf_param_gb = {\n",
    "#     'n_estimators': [100, 200],\n",
    "#     'max_depth': [1, 5, 10],\n",
    "#     'min_samples_split': [1, 3, 5],\n",
    "#     'min_samples_leaf': [1, 3, 5],\n",
    "#     'learning_rate': [.05, .1, .2]\n",
    "# }\n",
    "# gb2 = GradientBoostingRegressor(random_state=42)\n",
    "# gb2.fit(x_train2, y_train2)"
   ]
  },
  {
   "cell_type": "code",
   "execution_count": 28,
   "id": "605190ce",
   "metadata": {},
   "outputs": [],
   "source": [
    "# dt_grid_search3 = GridSearchCV(gb2, rf_param_gb, cv=3, return_train_score=True)\n",
    "# dt_grid_search3.fit(x_train2,y_train2)\n",
    "# dt_grid_search3.best_params_"
   ]
  },
  {
   "cell_type": "code",
   "execution_count": 29,
   "id": "d3c8b319",
   "metadata": {},
   "outputs": [],
   "source": [
    "gb3 = GradientBoostingRegressor(learning_rate=0.2, max_depth=1, min_samples_leaf=5, min_samples_split=3, n_estimators=200, random_state=42)"
   ]
  },
  {
   "cell_type": "code",
   "execution_count": 30,
   "id": "b41fe0a0",
   "metadata": {},
   "outputs": [
    {
     "name": "stdout",
     "output_type": "stream",
     "text": [
      "Training RMSE for gradient boost model using optimal parameters: 11.261406119658586\n",
      "Testing RMSE for gradient boost model using optimal parameters: 11.153019540696086\n"
     ]
    }
   ],
   "source": [
    "gb3.fit(x_train2, y_train2)\n",
    "y_train4_pred = gb3.predict(x_train2)\n",
    "y_test4_pred = gb3.predict(x_test2)\n",
    "\n",
    "print('Training RMSE for gradient boost model using optimal parameters: {}'.format(mean_squared_error(y_train2, y_train4_pred)**0.5))\n",
    "print('Testing RMSE for gradient boost model using optimal parameters: {}'.format(mean_squared_error(y_test2, y_test4_pred)**0.5))"
   ]
  },
  {
   "cell_type": "code",
   "execution_count": 31,
   "id": "85fe81b1",
   "metadata": {},
   "outputs": [],
   "source": [
    "tie = 0\n",
    "games = 0\n",
    "wins = 0\n",
    "loss = 0\n",
    "\n",
    "for i in range(len(x_test2)):\n",
    "    if ((y_test2[i]>x_test2['Home Wins By (Vegas)'][i]) & (y_test4_pred[i]>x_test2['Home Wins By (Vegas)'][i])):\n",
    "        wins += 1\n",
    "        games += 1\n",
    "    elif ((y_test2[i]<x_test2['Home Wins By (Vegas)'][i]) & (y_test4_pred[i]<x_test2['Home Wins By (Vegas)'][i])):\n",
    "        wins += 1\n",
    "        games += 1\n",
    "    elif (y_test2[i]==x_test2['Home Wins By (Vegas)'][i]):\n",
    "        tie += 1\n",
    "    else:\n",
    "        loss += 1\n",
    "        games += 1"
   ]
  },
  {
   "cell_type": "code",
   "execution_count": 32,
   "id": "400ed1f8",
   "metadata": {},
   "outputs": [
    {
     "data": {
      "text/plain": [
       "0.6183152743795876"
      ]
     },
     "execution_count": 32,
     "metadata": {},
     "output_type": "execute_result"
    }
   ],
   "source": [
    "wins/games"
   ]
  },
  {
   "cell_type": "code",
   "execution_count": 33,
   "id": "ebb4006e",
   "metadata": {},
   "outputs": [],
   "source": [
    "def beat_vegas(result, vegas, prediction):\n",
    "    tie = 0\n",
    "    games = 0\n",
    "    wins = 0\n",
    "    win_total = 0\n",
    "    loss = 0\n",
    "    loss_total = 0\n",
    "    \n",
    "    for i in range(len(result)):\n",
    "        if ((result[i]>vegas[i]) & (prediction[i]>vegas[i])):\n",
    "            wins += 1\n",
    "            games += 1\n",
    "            win_total += abs(vegas[i]-prediction[i])\n",
    "            \n",
    "        elif ((result[i]<vegas[i]) & (prediction[i]<vegas[i])):\n",
    "            wins += 1\n",
    "            games += 1\n",
    "            win_total += abs(vegas[i]-prediction[i])\n",
    "            \n",
    "        elif (result[i]==vegas[i]):\n",
    "            tie += 1\n",
    "            \n",
    "        else:\n",
    "            loss += 1\n",
    "            games += 1\n",
    "            loss_total += abs(vegas[i]-prediction[i])\n",
    "            \n",
    "    win_rate = (wins/games)*100\n",
    "    win_distance = win_total/wins\n",
    "    loss_distance = loss_total/loss\n",
    "    \n",
    "    print('Beat Vegas {}% of the time'.format(win_rate))\n",
    "    print('Vegas RMSE: {}'.format(mean_squared_error(result, vegas)**0.5))\n",
    "    print('Our RMSE: {}'.format(mean_squared_error(result, prediction)**0.5))\n",
    "    print('When we beat Vegas, our prediction is {} points away from the Vegas spread.'.format(win_distance))\n",
    "    print('When we lose to Vegas, our prediction is {} points away from the Vegas spread.'.format(loss_distance))"
   ]
  },
  {
   "cell_type": "code",
   "execution_count": 34,
   "id": "0c2f0235",
   "metadata": {},
   "outputs": [
    {
     "name": "stdout",
     "output_type": "stream",
     "text": [
      "Beat Vegas 62.4257252708843% of the time\n",
      "Vegas RMSE: 11.947860590231057\n",
      "Our RMSE: 11.188071440452962\n",
      "When we beat Vegas, our prediction is 3.4825613905435873 points away from the Vegas spread.\n",
      "When we lose to Vegas, our prediction is 2.378561595825144 points away from the Vegas spread.\n"
     ]
    }
   ],
   "source": [
    "#for forest gridsearch\n",
    "beat_vegas(y_test2, x_test2['Home Wins By (Vegas)'], y_test3_pred)"
   ]
  },
  {
   "cell_type": "code",
   "execution_count": 35,
   "id": "fca9f1b3",
   "metadata": {},
   "outputs": [
    {
     "name": "stdout",
     "output_type": "stream",
     "text": [
      "Beat Vegas 61.831527437958755% of the time\n",
      "Vegas RMSE: 11.947860590231057\n",
      "Our RMSE: 11.153019540696086\n",
      "When we beat Vegas, our prediction is 3.761055627265036 points away from the Vegas spread.\n",
      "When we lose to Vegas, our prediction is 2.4578109410641615 points away from the Vegas spread.\n"
     ]
    }
   ],
   "source": [
    "#for GB gridsearch\n",
    "beat_vegas(y_test2, x_test2['Home Wins By (Vegas)'], y_test4_pred)"
   ]
  },
  {
   "cell_type": "code",
   "execution_count": 36,
   "id": "67fad919",
   "metadata": {},
   "outputs": [
    {
     "name": "stdout",
     "output_type": "stream",
     "text": [
      "Training RMSE for linear regression model using optimal parameters: 11.347661093341419\n",
      "Testing RMSE for linear regression model using optimal parameters: 11.071580621625015\n"
     ]
    }
   ],
   "source": [
    "linreg1 = LinearRegression()\n",
    "linreg1.fit(x_train2, y_train2)\n",
    "y_train5_pred = linreg1.predict(x_train2)\n",
    "y_test5_pred = linreg1.predict(x_test2)\n",
    "print('Training RMSE for linear regression model using optimal parameters: {}'.format(mean_squared_error(y_train2, y_train5_pred)**0.5))\n",
    "print('Testing RMSE for linear regression model using optimal parameters: {}'.format(mean_squared_error(y_test2, y_test5_pred)**0.5))"
   ]
  },
  {
   "cell_type": "code",
   "execution_count": 59,
   "id": "0dc77ee4",
   "metadata": {
    "scrolled": false
   },
   "outputs": [
    {
     "data": {
      "image/png": "[encoded data removed]",
      "text/plain": [
       "<Figure size 432x288 with 1 Axes>"
      ]
     },
     "metadata": {
      "needs_background": "light"
     },
     "output_type": "display_data"
    }
   ],
   "source": [
    "feature_importances(linreg1, x_train2, linreg=True)"
   ]
  },
  {
   "cell_type": "code",
   "execution_count": 97,
   "id": "d36f98e4",
   "metadata": {},
   "outputs": [],
   "source": [
    "train_results = pd.DataFrame(columns=['Linreg Prediction', 'GB Prediction', 'RF Prediction', 'Vegas Prediction', 'Actual'],\n",
    "                      index = x_train2.index)"
   ]
  },
  {
   "cell_type": "code",
   "execution_count": 98,
   "id": "7dbd0e48",
   "metadata": {},
   "outputs": [],
   "source": [
    "train_results['Linreg Prediction'] = y_train5_pred\n",
    "train_results['GB Prediction'] = y_train4_pred\n",
    "train_results['RF Prediction'] = y_train3_pred\n",
    "train_results['Vegas Prediction'] = x_train2['Home Wins By (Vegas)']\n",
    "train_results['Actual'] = y_train2"
   ]
  },
  {
   "cell_type": "code",
   "execution_count": 99,
   "id": "d6544d8d",
   "metadata": {},
   "outputs": [],
   "source": [
    "train_results.index.rename('GameID', inplace=True)"
   ]
  },
  {
   "cell_type": "code",
   "execution_count": 72,
   "id": "d3ecdf48",
   "metadata": {},
   "outputs": [],
   "source": [
    "results = pd.DataFrame(columns=['Linreg Prediction', 'GB Prediction', 'RF Prediction', 'Vegas Prediction', 'Actual'],\n",
    "                      index = x_test2.index)"
   ]
  },
  {
   "cell_type": "code",
   "execution_count": 73,
   "id": "1452f480",
   "metadata": {},
   "outputs": [],
   "source": [
    "results['Linreg Prediction'] = y_test5_pred"
   ]
  },
  {
   "cell_type": "code",
   "execution_count": 74,
   "id": "00d923dd",
   "metadata": {},
   "outputs": [],
   "source": [
    "results['GB Prediction'] = y_test4_pred\n",
    "results['RF Prediction'] = y_test3_pred\n",
    "results['Vegas Prediction'] = x_test2['Home Wins By (Vegas)']\n",
    "results['Actual'] = y_test2"
   ]
  },
  {
   "cell_type": "code",
   "execution_count": 90,
   "id": "1eb1cdd9",
   "metadata": {},
   "outputs": [],
   "source": [
    "results.index.rename('GameID', inplace=True)"
   ]
  },
  {
   "cell_type": "code",
   "execution_count": 91,
   "id": "2f763b88",
   "metadata": {},
   "outputs": [
    {
     "data": {
      "text/html": [
       "<div>\n",
       "<style scoped>\n",
       "    .dataframe tbody tr th:only-of-type {\n",
       "        vertical-align: middle;\n",
       "    }\n",
       "\n",
       "    .dataframe tbody tr th {\n",
       "        vertical-align: top;\n",
       "    }\n",
       "\n",
       "    .dataframe thead th {\n",
       "        text-align: right;\n",
       "    }\n",
       "</style>\n",
       "<table border=\"1\" class=\"dataframe\">\n",
       "  <thead>\n",
       "    <tr style=\"text-align: right;\">\n",
       "      <th></th>\n",
       "      <th>Linreg Prediction</th>\n",
       "      <th>GB Prediction</th>\n",
       "      <th>RF Prediction</th>\n",
       "      <th>Vegas Prediction</th>\n",
       "      <th>Actual</th>\n",
       "    </tr>\n",
       "    <tr>\n",
       "      <th>GameID</th>\n",
       "      <th></th>\n",
       "      <th></th>\n",
       "      <th></th>\n",
       "      <th></th>\n",
       "      <th></th>\n",
       "    </tr>\n",
       "  </thead>\n",
       "  <tbody>\n",
       "    <tr>\n",
       "      <th>2014-12-22 00:00:00 Clippers @ San Antonio</th>\n",
       "      <td>-0.107879</td>\n",
       "      <td>2.122605</td>\n",
       "      <td>0.353668</td>\n",
       "      <td>1.0</td>\n",
       "      <td>7</td>\n",
       "    </tr>\n",
       "    <tr>\n",
       "      <th>2016-03-16 00:00:00 New York @ Golden State</th>\n",
       "      <td>15.445437</td>\n",
       "      <td>15.731262</td>\n",
       "      <td>14.464283</td>\n",
       "      <td>15.5</td>\n",
       "      <td>36</td>\n",
       "    </tr>\n",
       "    <tr>\n",
       "      <th>2018-11-06 00:00:00 Atlanta @ Charlotte</th>\n",
       "      <td>16.768840</td>\n",
       "      <td>15.041661</td>\n",
       "      <td>14.826541</td>\n",
       "      <td>11.5</td>\n",
       "      <td>11</td>\n",
       "    </tr>\n",
       "    <tr>\n",
       "      <th>2019-02-02 00:00:00 Chicago @ Charlotte</th>\n",
       "      <td>10.329748</td>\n",
       "      <td>12.730887</td>\n",
       "      <td>9.876404</td>\n",
       "      <td>6.5</td>\n",
       "      <td>7</td>\n",
       "    </tr>\n",
       "    <tr>\n",
       "      <th>2019-02-05 00:00:00 Detroit @ New York</th>\n",
       "      <td>-4.450459</td>\n",
       "      <td>-5.759347</td>\n",
       "      <td>-7.887928</td>\n",
       "      <td>-3.5</td>\n",
       "      <td>-13</td>\n",
       "    </tr>\n",
       "    <tr>\n",
       "      <th>...</th>\n",
       "      <td>...</td>\n",
       "      <td>...</td>\n",
       "      <td>...</td>\n",
       "      <td>...</td>\n",
       "      <td>...</td>\n",
       "    </tr>\n",
       "    <tr>\n",
       "      <th>2015-03-07 00:00:00 Portland Trail @ Minnesota</th>\n",
       "      <td>-6.776146</td>\n",
       "      <td>-8.557059</td>\n",
       "      <td>-6.506080</td>\n",
       "      <td>-5.0</td>\n",
       "      <td>8</td>\n",
       "    </tr>\n",
       "    <tr>\n",
       "      <th>2015-04-13 00:00:00 Detroit @ Cleveland</th>\n",
       "      <td>7.163755</td>\n",
       "      <td>7.832797</td>\n",
       "      <td>7.734144</td>\n",
       "      <td>8.0</td>\n",
       "      <td>12</td>\n",
       "    </tr>\n",
       "    <tr>\n",
       "      <th>2018-02-04 00:00:00 Milwaukee @ Brooklyn</th>\n",
       "      <td>-2.410519</td>\n",
       "      <td>-5.048502</td>\n",
       "      <td>-5.389159</td>\n",
       "      <td>-5.0</td>\n",
       "      <td>-15</td>\n",
       "    </tr>\n",
       "    <tr>\n",
       "      <th>2015-02-22 00:00:00 Denver @ Oklahoma City</th>\n",
       "      <td>11.361063</td>\n",
       "      <td>11.522992</td>\n",
       "      <td>9.560790</td>\n",
       "      <td>8.5</td>\n",
       "      <td>25</td>\n",
       "    </tr>\n",
       "    <tr>\n",
       "      <th>2021-04-23 00:00:00 Washington @ Oklahoma City</th>\n",
       "      <td>-7.190160</td>\n",
       "      <td>-11.417435</td>\n",
       "      <td>-15.013368</td>\n",
       "      <td>-9.0</td>\n",
       "      <td>-20</td>\n",
       "    </tr>\n",
       "  </tbody>\n",
       "</table>\n",
       "<p>2914 rows × 5 columns</p>\n",
       "</div>"
      ],
      "text/plain": [
       "                                                Linreg Prediction  \\\n",
       "GameID                                                              \n",
       "2014-12-22 00:00:00 Clippers @ San Antonio              -0.107879   \n",
       "2016-03-16 00:00:00 New York @ Golden State             15.445437   \n",
       "2018-11-06 00:00:00 Atlanta @ Charlotte                 16.768840   \n",
       "2019-02-02 00:00:00 Chicago @ Charlotte                 10.329748   \n",
       "2019-02-05 00:00:00 Detroit @ New York                  -4.450459   \n",
       "...                                                           ...   \n",
       "2015-03-07 00:00:00 Portland Trail @ Minnesota          -6.776146   \n",
       "2015-04-13 00:00:00 Detroit @ Cleveland                  7.163755   \n",
       "2018-02-04 00:00:00 Milwaukee @ Brooklyn                -2.410519   \n",
       "2015-02-22 00:00:00 Denver @ Oklahoma City              11.361063   \n",
       "2021-04-23 00:00:00 Washington @ Oklahoma City          -7.190160   \n",
       "\n",
       "                                                GB Prediction  RF Prediction  \\\n",
       "GameID                                                                         \n",
       "2014-12-22 00:00:00 Clippers @ San Antonio           2.122605       0.353668   \n",
       "2016-03-16 00:00:00 New York @ Golden State         15.731262      14.464283   \n",
       "2018-11-06 00:00:00 Atlanta @ Charlotte             15.041661      14.826541   \n",
       "2019-02-02 00:00:00 Chicago @ Charlotte             12.730887       9.876404   \n",
       "2019-02-05 00:00:00 Detroit @ New York              -5.759347      -7.887928   \n",
       "...                                                       ...            ...   \n",
       "2015-03-07 00:00:00 Portland Trail @ Minnesota      -8.557059      -6.506080   \n",
       "2015-04-13 00:00:00 Detroit @ Cleveland              7.832797       7.734144   \n",
       "2018-02-04 00:00:00 Milwaukee @ Brooklyn            -5.048502      -5.389159   \n",
       "2015-02-22 00:00:00 Denver @ Oklahoma City          11.522992       9.560790   \n",
       "2021-04-23 00:00:00 Washington @ Oklahoma City     -11.417435     -15.013368   \n",
       "\n",
       "                                                Vegas Prediction  Actual  \n",
       "GameID                                                                    \n",
       "2014-12-22 00:00:00 Clippers @ San Antonio                   1.0       7  \n",
       "2016-03-16 00:00:00 New York @ Golden State                 15.5      36  \n",
       "2018-11-06 00:00:00 Atlanta @ Charlotte                     11.5      11  \n",
       "2019-02-02 00:00:00 Chicago @ Charlotte                      6.5       7  \n",
       "2019-02-05 00:00:00 Detroit @ New York                      -3.5     -13  \n",
       "...                                                          ...     ...  \n",
       "2015-03-07 00:00:00 Portland Trail @ Minnesota              -5.0       8  \n",
       "2015-04-13 00:00:00 Detroit @ Cleveland                      8.0      12  \n",
       "2018-02-04 00:00:00 Milwaukee @ Brooklyn                    -5.0     -15  \n",
       "2015-02-22 00:00:00 Denver @ Oklahoma City                   8.5      25  \n",
       "2021-04-23 00:00:00 Washington @ Oklahoma City              -9.0     -20  \n",
       "\n",
       "[2914 rows x 5 columns]"
      ]
     },
     "execution_count": 91,
     "metadata": {},
     "output_type": "execute_result"
    }
   ],
   "source": [
    "results"
   ]
  },
  {
   "cell_type": "code",
   "execution_count": 37,
   "id": "a0da1791",
   "metadata": {},
   "outputs": [
    {
     "name": "stdout",
     "output_type": "stream",
     "text": [
      "Beat Vegas 62.4257252708843% of the time\n",
      "Vegas RMSE: 11.947860590231057\n",
      "Our RMSE: 11.071580621625015\n",
      "When we beat Vegas, our prediction is 4.434218326315353 points away from the Vegas spread.\n",
      "When we lose to Vegas, our prediction is 2.826251825138175 points away from the Vegas spread.\n"
     ]
    }
   ],
   "source": [
    "beat_vegas(y_test2, x_test2['Home Wins By (Vegas)'], y_test5_pred)"
   ]
  },
  {
   "cell_type": "code",
   "execution_count": 57,
   "id": "d5b4d33b",
   "metadata": {},
   "outputs": [],
   "source": [
    "def feature_importances(model, X_train, linreg = False):\n",
    "    if linreg:\n",
    "        importance = model.coef_\n",
    "    else:\n",
    "        importance = model.feature_importances_\n",
    "    \n",
    "    columns = list(X_train.columns)\n",
    "    df = pd.DataFrame(columns=['Feature', 'Importance'])\n",
    "    df['Feature'] = columns\n",
    "    df['Importance'] = abs(importance)\n",
    "    df_sorted = df.sort_values(by='Importance', ascending = False)\n",
    "    top_features = df_sorted['Feature'][0:12]\n",
    "    top_importances = df_sorted['Importance'][0:12]\n",
    "    \n",
    "    plt.barh(top_features, top_importances)\n",
    "    plt.title('Feature Importances')\n",
    "    plt.show()"
   ]
  },
  {
   "cell_type": "code",
   "execution_count": 92,
   "id": "b7a9fb92",
   "metadata": {},
   "outputs": [
    {
     "data": {
      "image/png": "[encoded data removed]",
      "text/plain": [
       "<Figure size 432x288 with 1 Axes>"
      ]
     },
     "metadata": {
      "needs_background": "light"
     },
     "output_type": "display_data"
    }
   ],
   "source": [
    "feature_importances(forest3, x_train2)"
   ]
  },
  {
   "cell_type": "code",
   "execution_count": null,
   "id": "95d74c25",
   "metadata": {},
   "outputs": [],
   "source": [
    "feature_importances(gb3, x_train2)"
   ]
  },
  {
   "cell_type": "code",
   "execution_count": 100,
   "id": "b04d485a",
   "metadata": {},
   "outputs": [],
   "source": [
    "# data2.to_csv('avg_by_game')\n",
    "# odds.to_csv('nba_game_odds')\n",
    "# results.to_csv('predictions')\n",
    "train_results.to_csv('train_predictions')"
   ]
  },
  {
   "cell_type": "code",
   "execution_count": null,
   "id": "17e6480e",
   "metadata": {},
   "outputs": [],
   "source": []
  }
 ],
 "metadata": {
  "kernelspec": {
   "display_name": "Python (learn-env)",
   "language": "python",
   "name": "learn-env"
  },
  "language_info": {
   "codemirror_mode": {
    "name": "ipython",
    "version": 3
   },
   "file_extension": ".py",
   "mimetype": "text/x-python",
   "name": "python",
   "nbconvert_exporter": "python",
   "pygments_lexer": "ipython3",
   "version": "3.8.8"
  }
 },
 "nbformat": 4,
 "nbformat_minor": 5
}
